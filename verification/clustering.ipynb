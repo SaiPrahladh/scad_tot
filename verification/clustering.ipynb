{
 "cells": [
  {
   "cell_type": "markdown",
   "metadata": {},
   "source": [
    "## Load Verification Dataset"
   ]
  },
  {
   "cell_type": "code",
   "execution_count": null,
   "metadata": {},
   "outputs": [],
   "source": [
    "from clustering import LGKUtils\n",
    "\n",
    "n_outputs = 5\n",
    "verification_csv = '../data/latest/verification.csv'\n",
    "X_orig, y_orig = LGKUtils.load_dataset(verification_csv, n_outputs)"
   ]
  },
  {
   "cell_type": "markdown",
   "metadata": {},
   "source": [
    "## Generate Label Guided K-Means Regions"
   ]
  },
  {
   "cell_type": "code",
   "execution_count": null,
   "metadata": {},
   "outputs": [],
   "source": [
    "from clustering import LGKClustering, LGKUtils\n",
    "\n",
    "X, y = X_orig.copy(), y_orig.copy()\n",
    "y = LGKUtils.reduce_classes(y)\n",
    "X, y = remove_outliers(X, y, 10)\n",
    "lgkmc = LGKClustering().fit(X, y, init_centroid='rand') # rand, first, none\n",
    "\n",
    "# save regions\n",
    "LGKUtils.save(lgkmc, outdir='../artifacts')"
   ]
  },
  {
   "cell_type": "markdown",
   "metadata": {},
   "source": [
    "## Verify Regions"
   ]
  },
  {
   "cell_type": "code",
   "execution_count": null,
   "metadata": {},
   "outputs": [],
   "source": [
    "import os\n",
    "from clustering import LGKUtils\n",
    "from robustness import verify_regions, save_verified_regions\n",
    "\n",
    "# load the regions\n",
    "lgkmc = LGKUtils.load('../artifacts/lgkm.pkl')\n",
    "regions = lgkmc.get_regions(sort=True)\n",
    "categories = regions.get_categories()\n",
    "\n",
    "# grab a subset of regions to verify... (optional, you could try to verify them all)\n",
    "subset_regions = regions[0:10]\n",
    "\n",
    "# verify the regions\n",
    "nnet_path = '../network/models/latest/model.nnet'\n",
    "vregions = verify_regions(nnet_path, subset_regions, categories, eprec=0.0001, rpad=10, verbose=1, timeout=timeout)\n",
    "save_verified_regions(vregions, outdir='../artifacts/')"
   ]
  }
 ],
 "metadata": {
  "language_info": {
   "codemirror_mode": {
    "name": "ipython",
    "version": 3
   },
   "file_extension": ".py",
   "mimetype": "text/x-python",
   "name": "python",
   "nbconvert_exporter": "python",
   "pygments_lexer": "ipython3",
   "version": "3.7.7-final"
  },
  "orig_nbformat": 2,
  "kernelspec": {
   "name": "python37764bitvenvvenv2f570c7c66434947b458a57674f581a2",
   "display_name": "Python 3.7.7 64-bit ('venv': venv)"
  }
 },
 "nbformat": 4,
 "nbformat_minor": 2
}