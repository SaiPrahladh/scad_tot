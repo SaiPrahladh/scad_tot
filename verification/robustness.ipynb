{
 "cells": [
  {
   "cell_type": "code",
   "execution_count": 1,
   "metadata": {},
   "outputs": [],
   "source": [
    "import pandas as pd\n",
    "samples_path = '../logs/samples.csv'\n",
    "samples = pd.read_csv(samples_path, index_col=0)\n",
    "samples = [(s[0:25].tolist(), s[25:].tolist()) for s in samples.values][0:2]"
   ]
  },
  {
   "cell_type": "code",
   "execution_count": 2,
   "metadata": {},
   "outputs": [
    {
     "output_type": "stream",
     "name": "stderr",
     "text": "INFO:robustness:searching 9 coarse epsilons b/t 1e-06 and 9e-06\nINFO:robustness:searching 9 coarse epsilons b/t 1e-05 and 9e-05\nINFO:robustness:searching 9 coarse epsilons b/t 0.0001 and 0.0009\nINFO:robustness:searching 9 coarse epsilons b/t 0.001 and 0.009\nINFO:robustness:searching 9 coarse epsilons b/t 0.01 and 0.09\nINFO:robustness:s0 coarse epsilon bounds: (0.01, 0.02) (4121ms)\nINFO:robustness:searching 1000 epsilons b/t 0.01 and 0.01999\nINFO:robustness:s0 epsilon: 0.01606 (2561ms)\nINFO:robustness:searching 9 coarse epsilons b/t 1e-06 and 9e-06\nINFO:robustness:searching 9 coarse epsilons b/t 1e-05 and 9e-05\nINFO:robustness:searching 9 coarse epsilons b/t 0.0001 and 0.0009\nINFO:robustness:searching 9 coarse epsilons b/t 0.001 and 0.009\nINFO:robustness:s1 coarse epsilon bounds: (0.005, 0.006) (3175ms)\nINFO:robustness:searching 100 epsilons b/t 0.005 and 0.00599\nINFO:robustness:s1 epsilon: 0.00533 (834ms)\nINFO:robustness:local robustness: (-0.00533, 0.00533) (10693ms)\nINFO:robustness:wrote summary to ../logs/test/robustness/symmetric/local_summary.csv\nINFO:robustness:wrote detils to ../logs/test/robustness/symmetric/local_details.csv\nINFO:robustness:searching 9 coarse l_epsilons b/t 1e-06 and 9e-06\nINFO:robustness:searching 9 coarse l_epsilons b/t 1e-05 and 9e-05\nINFO:robustness:searching 9 coarse l_epsilons b/t 0.0001 and 0.0009\nINFO:robustness:searching 9 coarse l_epsilons b/t 0.001 and 0.009\nINFO:robustness:searching 9 coarse l_epsilons b/t 0.01 and 0.09\nINFO:robustness:s0 lower epsilon coarse bounds: (0.04, 0.05) (4664ms)\nINFO:robustness:searching 9 coarse u_epsilons b/t 1e-06 and 9e-06\nINFO:robustness:searching 9 coarse u_epsilons b/t 1e-05 and 9e-05\nINFO:robustness:searching 9 coarse u_epsilons b/t 0.0001 and 0.0009\nINFO:robustness:searching 9 coarse u_epsilons b/t 0.001 and 0.009\nINFO:robustness:searching 9 coarse u_epsilons b/t 0.01 and 0.09\nINFO:robustness:s0 upper epsilon coarse bounds: (0.02, 0.03) (3794ms)\nINFO:robustness:searching 1001 l_epsilons b/t 0.04 and 0.05\nINFO:robustness:s0 lower epsilon: 0.04164 (8714ms)\nINFO:robustness:searching 1000 u_epsilons b/t 0.02 and 0.02999\nINFO:robustness:s0 upper epsilon: 0.02475 (1671ms)\nINFO:robustness:searching 9 coarse l_epsilons b/t 1e-06 and 9e-06\nINFO:robustness:searching 9 coarse l_epsilons b/t 1e-05 and 9e-05\nINFO:robustness:searching 9 coarse l_epsilons b/t 0.0001 and 0.0009\nINFO:robustness:searching 9 coarse l_epsilons b/t 0.001 and 0.009\nINFO:robustness:s1 lower epsilon coarse bounds: (0.007, 0.008) (3469ms)\nINFO:robustness:searching 9 coarse u_epsilons b/t 1e-06 and 9e-06\nINFO:robustness:searching 9 coarse u_epsilons b/t 1e-05 and 9e-05\nINFO:robustness:searching 9 coarse u_epsilons b/t 0.0001 and 0.0009\nINFO:robustness:searching 9 coarse u_epsilons b/t 0.001 and 0.009\nINFO:robustness:s1 upper epsilon coarse bounds: (0.006, 0.007) (3186ms)\nINFO:robustness:searching 100 l_epsilons b/t 0.007 and 0.00799\nINFO:robustness:s1 lower epsilon: 0.0072 (1200ms)\nINFO:robustness:searching 100 u_epsilons b/t 0.006 and 0.00699\nINFO:robustness:s1 upper epsilon: 0.00606 (750ms)\nINFO:robustness:asymm local robustness: (-0.0072, 0.00606) (27457ms)\nINFO:robustness:wrote summary to ../logs/test/robustness/asymmetric/local_summary.csv\nINFO:robustness:wrote detils to ../logs/test/robustness/asymmetric/local_details.csv\nSYM RESULTS:  ((-0.00533, 0.00533), [(0.01606, 0.01606), (0.00533, 0.00533)])\nASYM RESULTS:  ((-0.0072, 0.00606), [(0.04164, 0.02475), (0.0072, 0.00606)])\n"
    }
   ],
   "source": [
    "from robustness import test_local_robustness\n",
    "\n",
    "nnet_path = '../network/models/v3.2.0/model.nnet'\n",
    "sym_results = test_local_robustness(nnet_path, samples, e_min=0.0001, e_max=100, e_prec=0.00001, save_results=True, save_samples=True, verbose=2, outdir='../logs/test/robustness/symmetric')\n",
    "asym_results = test_local_robustness(nnet_path, samples, e_min=0.0001, e_max=100, e_prec=0.00001, asym=True, save_results=True, save_samples=True, verbose=2, outdir='../logs/test/robustness/asymmetric')\n",
    "\n",
    "print('SYM RESULTS: ', sym_results)\n",
    "print('ASYM RESULTS: ', asym_results)\n",
    "# SYM RESULTS:  ((-0.00533, 0.00533), [(0.01606, 0.01606), (0.00533, 0.00533)])\n",
    "# ASYM RESULTS:  ((-0.0072, 0.00606), [(0.04164, 0.02475), (0.0072, 0.00606)])"
   ]
  },
  {
   "cell_type": "code",
   "execution_count": 3,
   "metadata": {},
   "outputs": [
    {
     "output_type": "stream",
     "name": "stdout",
     "text": "Symmetric tests:  ok\nAsymmetric tests:  ok\n"
    }
   ],
   "source": [
    "from tot_net import TOTNet\n",
    "\n",
    "def check_epsilons(net, sample, le, ue, asym=False):\n",
    "    inputs, outputs = sample\n",
    "    yval = max(outputs)\n",
    "    y = outputs.index(yval)\n",
    "    lbs = [x+le for x in inputs]\n",
    "    ubs = [x+ue for x in inputs]\n",
    "    result = None\n",
    "    if asym:\n",
    "        result = (net.find_counterexample(lbs, inputs, y),\n",
    "                  net.find_counterexample(inputs, ubs, y))\n",
    "    else:\n",
    "        result = net.find_counterexample(lbs, ubs, y)\n",
    "    y_duplicates = [oy for oy,oyval in enumerate(outputs) if oy != y and oyval == yval]\n",
    "    if y_duplicates: print('WARNING: multiple y with same value', y_duplicates)\n",
    "    return result\n",
    "\n",
    "net = TOTNet(nnet_path)\n",
    "sym_tests = []\n",
    "asym_tests = []\n",
    "sym_le, sym_ue = sym_results[0]\n",
    "asym_le, asym_ue = asym_results[0]\n",
    "for s,sample in enumerate(samples):\n",
    "    sym_cexs = check_epsilons(net, sample, sym_le, sym_ue)\n",
    "    sym_tests.append(sym_cexs)\n",
    "\n",
    "    asym_cexs = check_epsilons(net, sample, asym_le, asym_ue, asym=True)\n",
    "    asym_tests.append(asym_cexs)\n",
    "\n",
    "print('Symmetric tests: ', sym_tests if any(sym_tests) else 'ok')\n",
    "print('Asymmetric tests: ', asym_tests if any([l or u for l,u in asym_tests]) else 'ok')"
   ]
  },
  {
   "cell_type": "code",
   "execution_count": null,
   "metadata": {},
   "outputs": [],
   "source": [
    "# from maraboupy import Marabou, MarabouUtils\n",
    "# 0:0.00231 1:0.01548\n",
    "\n",
    "# (-0.005, 0.004)\n",
    "# epsilon = 0.005\n",
    "# sample = samples[0]\n",
    "# inputs, outputs = sample\n",
    "# net = TOTNet(nnet_path)\n",
    "# # net.set_lower_bounds([x for x in inputs])\n",
    "# net.set_upper_bounds([x for x in inputs])\n",
    "# net.set_lower_bounds([x-epsilon for x in inputs])\n",
    "# # net.set_upper_bounds([x+epsilon for x in inputs])\n",
    "# net.set_expected_category(0)\n",
    "# print(outputs)\n",
    "# net.solve()\n",
    "\n",
    "# net = Marabou.read_nnet(nnet_path)\n",
    "# eq = Marabou.Equation(Marabou.Equation.LE)\n",
    "# eq.addAddend(1, net.outputVars[0][1])\n",
    "# eq.addAddend(-1, net.outputVars[0][0])\n",
    "# eq.setScalar(0)\n",
    "# net.addEquation(eq)\n",
    "# MarabouUtils.addInequality(net, [net.outputVars[0][0], net.outputVars[0][1]], [1, -1], 0)\n",
    "# net.solve()\n",
    "# 0:0.00231 1:0.01548\n",
    "\n",
    "# (-0.005, 0.004)\n",
    "# epsilon = 0.005\n",
    "# sample = samples[0]\n",
    "# inputs, outputs = sample\n",
    "# net = TOTNet(nnet_path)\n",
    "# # net.set_lower_bounds([x for x in inputs])\n",
    "# net.set_upper_bounds([x for x in inputs])\n",
    "# net.set_lower_bounds([x-epsilon for x in inputs])\n",
    "# # net.set_upper_bounds([x+epsilon for x in inputs])\n",
    "# net.set_expected_category(0)\n",
    "# print(outputs)\n",
    "# net.solve()\n",
    "\n",
    "# net = Marabou.read_nnet(nnet_path)\n",
    "# eq = Marabou.Equation(Marabou.Equation.LE)\n",
    "# eq.addAddend(1, net.outputVars[0][1])\n",
    "# eq.addAddend(-1, net.outputVars[0][0])\n",
    "# eq.setScalar(0)\n",
    "# net.addEquation(eq)\n",
    "# MarabouUtils.addInequality(net, [net.outputVars[0][0], net.outputVars[0][1]], [1, -1], 0)\n",
    "# net.solve()"
   ]
  }
 ],
 "metadata": {
  "language_info": {
   "codemirror_mode": {
    "name": "ipython",
    "version": 3
   },
   "file_extension": ".py",
   "mimetype": "text/x-python",
   "name": "python",
   "nbconvert_exporter": "python",
   "pygments_lexer": "ipython3",
   "version": "3.7.7-final"
  },
  "orig_nbformat": 2,
  "kernelspec": {
   "name": "python37764bitvenvvenv2f570c7c66434947b458a57674f581a2",
   "display_name": "Python 3.7.7 64-bit ('venv': venv)"
  }
 },
 "nbformat": 4,
 "nbformat_minor": 2
}