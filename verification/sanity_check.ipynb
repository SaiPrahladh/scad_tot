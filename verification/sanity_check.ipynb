{
 "cells": [
  {
   "cell_type": "markdown",
   "metadata": {},
   "source": [
    "# Sanity Checks"
   ]
  },
  {
   "cell_type": "code",
   "execution_count": 1,
   "metadata": {},
   "outputs": [],
   "source": [
    "import sys, os, re\n",
    "import numpy as np\n",
    "from IPython.display import display\n",
    "from maraboupy import Marabou, MarabouCore\n",
    "from tot_net import TOTNet"
   ]
  },
  {
   "cell_type": "code",
   "execution_count": 2,
   "metadata": {},
   "outputs": [],
   "source": [
    "sample_input = np.array([\n",
    "    0.2622614500364243, -0.22479658685112885, -0.14872559153186365,-0.1183740939370412,       -0.11582643087693376, 0.4638055359970424, 0.5343624908151317, -1.8587238209603285,        -1.925346908225373, 0.7745258391529399, 1.691414092773877, -1.1513317010900714,           0.15687995017838718, -0.4932713694542802, 0.3758603164252629, -0.6443093237643779,        0.5198151301903109, -0.1392841543884293, -0.17885723928180608, -0.7026510235427964,       -0.04793722518544871, -0.4594806526602232, 0.18987588687321624, 0.4657886911920623,       -0.1626985247701109])\n",
    "sample_output = [1, 0, 0]\n",
    "\n",
    "nnet_file = '../artifacts/models/model-v3.1.3/model.nnet'"
   ]
  },
  {
   "cell_type": "code",
   "execution_count": 2,
   "metadata": {},
   "outputs": [
    {
     "output_type": "error",
     "ename": "NameError",
     "evalue": "name 'nnet_file' is not defined",
     "traceback": [
      "\u001b[0;31m---------------------------------------------------------------------------\u001b[0m",
      "\u001b[0;31mNameError\u001b[0m                                 Traceback (most recent call last)",
      "\u001b[0;32m<ipython-input-2-f484f957e3d6>\u001b[0m in \u001b[0;36m<module>\u001b[0;34m\u001b[0m\n\u001b[1;32m      1\u001b[0m \u001b[0;31m# 0. Sanity test 0: predict known input using the network.\u001b[0m\u001b[0;34m\u001b[0m\u001b[0;34m\u001b[0m\u001b[0;34m\u001b[0m\u001b[0m\n\u001b[0;32m----> 2\u001b[0;31m \u001b[0mtest_net\u001b[0m \u001b[0;34m=\u001b[0m \u001b[0mMarabou\u001b[0m\u001b[0;34m.\u001b[0m\u001b[0mread_nnet\u001b[0m\u001b[0;34m(\u001b[0m\u001b[0mnnet_file\u001b[0m\u001b[0;34m)\u001b[0m\u001b[0;34m\u001b[0m\u001b[0;34m\u001b[0m\u001b[0m\n\u001b[0m\u001b[1;32m      3\u001b[0m \u001b[0moutput\u001b[0m \u001b[0;34m=\u001b[0m \u001b[0mtest_net\u001b[0m\u001b[0;34m.\u001b[0m\u001b[0mevaluate\u001b[0m\u001b[0;34m(\u001b[0m\u001b[0;34m[\u001b[0m\u001b[0msample_input\u001b[0m\u001b[0;34m]\u001b[0m\u001b[0;34m)\u001b[0m\u001b[0;34m[\u001b[0m\u001b[0;36m0\u001b[0m\u001b[0;34m]\u001b[0m\u001b[0;34m\u001b[0m\u001b[0;34m\u001b[0m\u001b[0m\n\u001b[1;32m      4\u001b[0m \u001b[0;32massert\u001b[0m\u001b[0;34m(\u001b[0m\u001b[0;36m0\u001b[0m \u001b[0;34m==\u001b[0m \u001b[0mlist\u001b[0m\u001b[0;34m(\u001b[0m\u001b[0moutput\u001b[0m\u001b[0;34m)\u001b[0m\u001b[0;34m.\u001b[0m\u001b[0mindex\u001b[0m\u001b[0;34m(\u001b[0m\u001b[0mmax\u001b[0m\u001b[0;34m(\u001b[0m\u001b[0moutput\u001b[0m\u001b[0;34m)\u001b[0m\u001b[0;34m)\u001b[0m\u001b[0;34m)\u001b[0m\u001b[0;34m\u001b[0m\u001b[0;34m\u001b[0m\u001b[0m\n\u001b[1;32m      5\u001b[0m \u001b[0;34m\u001b[0m\u001b[0m\n",
      "\u001b[0;31mNameError\u001b[0m: name 'nnet_file' is not defined"
     ]
    }
   ],
   "source": [
    "# 0. Sanity test 0: predict known input using the network.\n",
    "test_net = Marabou.read_nnet(nnet_file)\n",
    "output = test_net.evaluate([sample_input])[0]\n",
    "assert(0 == list(output).index(max(output)))\n",
    "\n",
    "print(f'Correct. {output}') # --> [1, 0, 0]"
   ]
  },
  {
   "cell_type": "code",
   "execution_count": 4,
   "metadata": {},
   "outputs": [
    {
     "output_type": "stream",
     "name": "stdout",
     "text": "SAT:  ['input 0 = 0.2622614500364243', 'input 1 = -0.22479658685112885', 'input 2 = -0.14872559153186365', 'input 3 = -0.1183740939370412', 'input 4 = -0.11582643087693376', 'input 5 = 0.4638055359970424', 'input 6 = 0.5343624908151317', 'input 7 = -1.8587238209603285', 'input 8 = -1.925346908225373', 'input 9 = 0.7745258391529399', 'input 10 = 1.691414092773877', 'input 11 = -1.1513317010900714', 'input 12 = 0.15687995017838718', 'input 13 = -0.4932713694542802', 'input 14 = 0.3758603164252629', 'input 15 = -0.6443093237643779', 'input 16 = 0.5198151301903109', 'input 17 = -0.1392841543884293', 'input 18 = -0.17885723928180608', 'input 19 = -0.7026510235427964', 'input 20 = -0.04793722518544871', 'input 21 = -0.4594806526602232', 'input 22 = 0.18987588687321624', 'input 23 = 0.4657886911920623', 'input 24 = -0.1626985247701109', 'output 0 = 3.42226921215419', 'output 1 = 0.7439608810539671', 'output 2 = -0.968015911041988']\n"
    }
   ],
   "source": [
    "# 1. Sanity test 1 (correct class y0, should be SAT)\n",
    "net = TOTNet(nnet_file)\n",
    "net.set_lower_bounds(sample_input)\n",
    "net.set_upper_bounds(sample_input)\n",
    "net.set_expected_category(0) # +y1 -y0 <= 0, +y1 -y2 <= 0\n",
    "vals, stats = net.solve()\n",
    "assert(len(vals) > 0)\n",
    "print('SAT: ', vals)"
   ]
  },
  {
   "cell_type": "code",
   "execution_count": 5,
   "metadata": {},
   "outputs": [
    {
     "output_type": "stream",
     "name": "stdout",
     "text": "UNSAT []\n"
    }
   ],
   "source": [
    "# 2. Sanity test 2 (incorrect class y2, should be UNSAT)\n",
    "net = TOTNet(nnet_file)\n",
    "net.set_lower_bounds(sample_input)\n",
    "net.set_upper_bounds(sample_input)\n",
    "net.set_expected_category(1) # +y0 -y2 <= 0, +y1 -y2 <= 0\n",
    "vals, _ = net.solve()\n",
    "assert(len(vals) == 0)\n",
    "print('UNSAT', vals)"
   ]
  },
  {
   "cell_type": "code",
   "execution_count": 6,
   "metadata": {},
   "outputs": [
    {
     "output_type": "stream",
     "name": "stdout",
     "text": "UNSAT []\n"
    }
   ],
   "source": [
    "# 3. Sanity test 3 (incorrect class y2, should be UNSAT)\n",
    "net = TOTNet(nnet_file)\n",
    "net.set_lower_bounds(sample_input)\n",
    "net.set_upper_bounds(sample_input)\n",
    "net.set_expected_category(2) # +y0 -y2 <= 0, +y1 -y2 <= 0\n",
    "vals, _ = net.solve()\n",
    "assert(len(vals) == 0)\n",
    "print('UNSAT', vals)"
   ]
  },
  {
   "cell_type": "code",
   "execution_count": null,
   "metadata": {},
   "outputs": [],
   "source": []
  }
 ],
 "metadata": {
  "language_info": {
   "codemirror_mode": {
    "name": "ipython",
    "version": 3
   },
   "file_extension": ".py",
   "mimetype": "text/x-python",
   "name": "python",
   "nbconvert_exporter": "python",
   "pygments_lexer": "ipython3",
   "version": "3.7.7-final"
  },
  "orig_nbformat": 2,
  "kernelspec": {
   "name": "python37764bitvenvvenv2f570c7c66434947b458a57674f581a2",
   "display_name": "Python 3.7.7 64-bit ('venv': venv)"
  }
 },
 "nbformat": 4,
 "nbformat_minor": 2
}