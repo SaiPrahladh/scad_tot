{
 "cells": [
  {
   "cell_type": "code",
   "execution_count": null,
   "metadata": {},
   "outputs": [],
   "source": [
    "import sys\n",
    "import numpy as np\n",
    "import pickle as pkl\n",
    "from IPython.display import display\n",
    "from maraboupy import Marabou, MarabouCore\n",
    "from utils import TOTUtils"
   ]
  },
  {
   "cell_type": "code",
   "execution_count": null,
   "metadata": {},
   "outputs": [],
   "source": [
    "# model_path = '../artifacts/models/model_v3.2.0/model.h5'\n",
    "# data_csv = '../data/v3.2.0/test.csv'\n",
    "# all_samples = TOTUtils.load_samples(data_csv, frac=0.001)\n",
    "# samples = TOTUtils.filter_samples(all_samples, model_path)\n",
    "# print(f'{len(samples)} correct samples')"
   ]
  },
  {
   "cell_type": "code",
   "execution_count": 1,
   "metadata": {
    "tags": [
     "outputPrepend",
     "outputPrepend"
    ]
   },
   "outputs": [
    {
     "output_type": "stream",
     "name": "stderr",
     "text": "INFO:sensitivity:x0_s0 -dist=44.81724000000001\nINFO:sensitivity:x0_s0 +dist=44.45414\nWARNING:sensitivity:no -dist found for x0_s1@p1.0\nINFO:sensitivity:x0_s1 -dist=0\nINFO:sensitivity:x0_s1 +dist=0.8053399999999998\nINFO:sensitivity:x0_s2 -dist=70.41728000000005\nINFO:sensitivity:x0_s2 +dist=9.58348999999999\nINFO:sensitivity:x0_s3 -dist=2.365219999999999\nINFO:sensitivity:x0_s3 +dist=6.605589999999995\nINFO:sensitivity:x0_s4 -dist=8.409619999999975\nINFO:sensitivity:x0_s4 +dist=5.204089999999997\nINFO:sensitivity:x0_s5 -dist=1.80976\nINFO:sensitivity:x0_s5 +dist=16.60327000000001\nINFO:sensitivity:x0_s6 -dist=5.579139999999974\nINFO:sensitivity:x0_s6 +dist=2.834500000000001\nINFO:sensitivity:x0_s7 -dist=6.480179999999994\nINFO:sensitivity:x0_s7 +dist=28.282170000000015\nINFO:sensitivity:x0_s8 -dist=32.574209999999994\nINFO:sensitivity:x0_s8 +dist=31.945370000000022\nWARNING:sensitivity:no -dist found for x0_s9@p1.0\nINFO:sensitivity:x0_s9 -dist=0\nINFO:sensitivity:x0_s9 +dist=6.459609999999975\nINFO:sensitivity:x0_s10 -dist=5.503049999999997\nINFO:sensitivity:x0_s10 +dist=32.48043000000001\nWARNING:sensitivity:no -dist found for x0_s11@p1.0\nINFO:sensitivity:x0_s11 -dist=0\nINFO:sensitivity:x0_s11 +dist=7.405839999999997\nWARNING:sensitivity:no -dist found for x0_s12@p1.0\nINFO:sensitivity:x0_s12 -dist=0\nINFO:sensitivity:x0_s12 +dist=4.9182599999999805\nINFO:sensitivity:x0_s13 -dist=14.956849999999973\nINFO:sensitivity:x0_s13 +dist=23.41456000000001\nWARNING:sensitivity:no -dist found for x0_s14@p1.0\nINFO:sensitivity:x0_s14 -dist=0\nINFO:sensitivity:x0_s14 +dist=2.4542199999999994\nINFO:sensitivity:x0_s15 -dist=14.227709999999993\nINFO:sensitivity:x0_s15 +dist=15.127089999999992\nINFO:sensitivity:x0_s16 -dist=3.941449999999981\nINFO:sensitivity:x0_s16 +dist=6.744929999999995\nINFO:sensitivity:x0_s17 -dist=11.553059999999993\nINFO:sensitivity:x0_s17 +dist=14.976909999999942\nINFO:sensitivity:x0_s18 -dist=5.4392799999999735\nINFO:sensitivity:x0_s18 +dist=15.463019999999995\nINFO:sensitivity:x0_s19 -dist=8.969079999999956\nINFO:sensitivity:x0_s19 +dist=30.301180000000002\nWARNING:sensitivity:no -dist found for x0_s20@p1.0\nINFO:sensitivity:x0_s20 -dist=0\nINFO:sensitivity:x0_s20 +dist=68.27003000000003\nINFO:sensitivity:x0_s21 -dist=20.957890000000152\nINFO:sensitivity:x0_s21 +dist=15.726809999999992\nINFO:sensitivity:x0_s22 -dist=44.87787000000003\nINFO:sensitivity:x0_s22 +dist=32.011910000000285\nINFO:sensitivity:x0_s23 -dist=41.00213000000001\nINFO:sensitivity:x0_s23 +dist=53.52191000000029\nINFO:sensitivity:x0_s24 -dist=8.089129999999976\nINFO:sensitivity:x0_s24 +dist=40.66444000000001\nINFO:sensitivity:x0_s25 -dist=1.942770000000001\nINFO:sensitivity:x0_s25 +dist=9.278529999999991\nWARNING:sensitivity:no -dist found for x0_s26@p1.0\nINFO:sensitivity:x0_s26 -dist=0\nINFO:sensitivity:x0_s26 +dist=3.9122999999999815\nINFO:sensitivity:x0_s27 -dist=30.12854000000001\nINFO:sensitivity:x0_s27 +dist=3.6108800000000025\nINFO:sensitivity:x0_s28 -dist=3.766880000000001\nINFO:sensitivity:x0_s28 +dist=84.03910000000009\nINFO:sensitivity:x0_s29 -dist=9.901849999999977\nINFO:sensitivity:x0_s29 +dist=39.42475000000003\nINFO:sensitivity:x0_s30 -dist=14.986289999999972\nINFO:sensitivity:x0_s30 +dist=7.605009999999999\nWARNING:sensitivity:no -dist found for x0_s31@p1.0\nINFO:sensitivity:x0_s31 -dist=0\nINFO:sensitivity:x0_s31 +dist=3.2196400000000205\nINFO:sensitivity:x0_s32 -dist=2.77658\nINFO:sensitivity:x0_s32 +dist=9.22790999999996\nINFO:sensitivity:x0_s33 -dist=20.62991000000002\nINFO:sensitivity:x0_s33 +dist=15.335219999999994\nINFO:sensitivity:x0_s34 -dist=35.06186000000003\nINFO:sensitivity:x0_s34 +dist=16.961560000000148\nINFO:sensitivity:x0_s35 -dist=2.8629000000000016\nINFO:sensitivity:x0_s35 +dist=1.14272\nINFO:sensitivity:x0_s36 -dist=24.374730000000017\nINFO:sensitivity:x0_s36 +dist=10.419639999999974\nINFO:sensitivity:x0_s37 -dist=17.649310000000025\nINFO:sensitivity:x0_s37 +dist=83.31599000000007\nWARNING:sensitivity:no -dist found for x0_s38@p1.0\nINFO:sensitivity:x0_s38 -dist=0\nINFO:sensitivity:x0_s38 +dist=14.799779999999762\nINFO:sensitivity:x0_s39 -dist=2.0331599999999996\nINFO:sensitivity:x0_s39 +dist=3.6381799999999997\nINFO:sensitivity:x0_s40 -dist=1.9426400000000008\nINFO:sensitivity:x0_s40 +dist=34.55674000000002\nINFO:sensitivity:x0_s41 -dist=11.233379999999993\nINFO:sensitivity:x0_s41 +dist=13.308649999999991\nWARNING:sensitivity:no -dist found for x0_s42@p1.0\nINFO:sensitivity:x0_s42 -dist=0\nINFO:sensitivity:x0_s42 +dist=11.031849999999995\nINFO:sensitivity:x0_s43 -dist=1.940620000000001\nWARNING:sensitivity:no +dist found for x0_s43@p1.0\nINFO:sensitivity:x0_s43 +dist=0\nINFO:sensitivity:x0_s44 -dist=3.34236\nINFO:sensitivity:x0_s44 +dist=15.050909999999964\nWARNING:sensitivity:no -dist found for x0_s45@p1.0\nINFO:sensitivity:x0_s45 -dist=0\nINFO:sensitivity:x0_s45 +dist=34.41311\nINFO:sensitivity:x0_s46 -dist=6.3866099999999975\nINFO:sensitivity:x0_s46 +dist=6.151519999999997\nWARNING:sensitivity:no -dist found for x0_s47@p1.0\nINFO:sensitivity:x0_s47 -dist=0\nINFO:sensitivity:x0_s47 +dist=53.68008000000002\nINFO:sensitivity:x0_s48 -dist=3.7076000000000016\nINFO:sensitivity:x0_s48 +dist=98.67124000000003\nINFO:sensitivity:x0_s49 -dist=51.25987000000034\nINFO:sensitivity:x0_s49 +dist=1.2670199999999996\nINFO:sensitivity:x0_s50 -dist=29.30635000000001\nINFO:sensitivity:x0_s50 +dist=24.977590000000156\nINFO:sensitivity:x0_s51 -dist=34.305220000000006\nINFO:sensitivity:x0_s51 +dist=69.65105000000001\nINFO:sensitivity:x0_s52 -dist=7.238909999999999\nINFO:sensitivity:x0_s52 +dist=42.85360000000004\nINFO:sensitivity:x0_s53 -dist=9.007569999999992\nINFO:sensitivity:x0_s53 +dist=4.431549999999995\nINFO:sensitivity:x0_s54 -dist=0.9193499999999998\nINFO:sensitivity:x0_s54 +dist=53.00134000000002\nINFO:sensitivity:x0_s55 -dist=14.689109999999975\nINFO:sensitivity:x0_s55 +dist=12.398109999999944\nINFO:sensitivity:x0_s56 -dist=31.932810000000018\nINFO:sensitivity:x0_s56 +dist=11.055569999999992\nINFO:sensitivity:x0_s57 -dist=66.18326000000008\nINFO:sensitivity:x0_s57 +dist=1.7247500000000004\nINFO:sensitivity:x0_s58 -dist=11.949329999999957\nINFO:sensitivity:x0_s58 +dist=96.93021000000049\nINFO:sensitivity:x0_s59 -dist=13.387609999999992\nINFO:sensitivity:x0_s59 +dist=55.24810999999998\nINFO:sensitivity:x0_s60 -dist=9.662639999999993\nINFO:sensitivity:x0_s60 +dist=34.249550000000326\nINFO:sensitivity:x0_s61 -dist=3.155169999999999\nINFO:sensitivity:x0_s61 +dist=14.911329999999978\nINFO:sensitivity:x0_s62 -dist=15.883919999999959\nINFO:sensitivity:x0_s62 +dist=14.726039999999992\nINFO:sensitivity:x0_s63 -dist=6.766669999999994\nINFO:sensitivity:x0_s63 +dist=25.032620000000005\nWARNING:sensitivity:no -dist found for x0_s64@p1.0\nINFO:sensitivity:x0_s64 -dist=0\nINFO:sensitivity:x0_s64 +dist=76.79298000000045\nINFO:sensitivity:x0_s65 -dist=9.16494999999996\nWARNING:sensitivity:no +dist found for x0_s65@p1.0\nINFO:sensitivity:x0_s65 +dist=0\nINFO:sensitivity:x0_s66 -dist=7.338059999999999\nINFO:sensitivity:x0_s66 +dist=39.495870000000025\nINFO:sensitivity:x0_s67 -dist=21.14598000000001\nINFO:sensitivity:x0_s67 +dist=31.04571000000001\nWARNING:sensitivity:no -dist found for x0_s68@p1.0\nINFO:sensitivity:x0_s68 -dist=0\nINFO:sensitivity:x0_s68 +dist=3.8390700000000195\nINFO:sensitivity:x0_s69 -dist=7.730759999999993\nINFO:sensitivity:x0_s69 +dist=12.750419999999995\nINFO:sensitivity:x0_s70 -dist=74.2387000000001\nINFO:sensitivity:x0_s70 +dist=23.19096000000001\nINFO:sensitivity:x0_s71 -dist=11.332129999999996\nINFO:sensitivity:x0_s71 +dist=8.828219999999991\nINFO:sensitivity:x0_s72 -dist=7.07812\nWARNING:sensitivity:no +dist found for x0_s72@p1.0\nINFO:sensitivity:x0_s72 +dist=0\nWARNING:sensitivity:no -dist found for x0_s73@p1.0\nINFO:sensitivity:x0_s73 -dist=0\nINFO:sensitivity:x0_s73 +dist=42.9830099999998\nINFO:sensitivity:x0_s74 -dist=11.422789999999992\nINFO:sensitivity:x0_s74 +dist=25.380290000000013\nINFO:sensitivity:x0_s75 -dist=9.100759999999996\nINFO:sensitivity:x0_s75 +dist=35.934940000000104\nINFO:sensitivity:x0_s76 -dist=32.94781999999983\nINFO:sensitivity:x0_s76 +dist=5.0859899999999945\nWARNING:sensitivity:no -dist found for x0_s77@p1.0\nINFO:sensitivity:x0_s77 -dist=0\nINFO:sensitivity:x0_s77 +dist=3.031760000000001\nINFO:sensitivity:x0_s78 -dist=41.30099000000032\nINFO:sensitivity:x0_s78 +dist=51.17665000000001\nINFO:sensitivity:x0_s79 -dist=14.006209999999996\nINFO:sensitivity:x0_s79 +dist=24.05585000000001\nINFO:sensitivity:x0_s80 -dist=10.432579999999993\nINFO:sensitivity:x0_s80 +dist=1.2620800000000005\nINFO:sensitivity:x0_s81 -dist=30.99171000000121\nINFO:sensitivity:x0_s81 +dist=12.196129999999945\nINFO:sensitivity:x0_s82 -dist=27.92057000000014\nINFO:sensitivity:x0_s82 +dist=44.73439000000003\nINFO:sensitivity:x0_s83 -dist=12.585529999999991\nINFO:sensitivity:x0_s83 +dist=28.17255000000001\nINFO:sensitivity:x0_s84 -dist=4.723369999999995\nINFO:sensitivity:x0_s84 +dist=8.908229999999975\nINFO:sensitivity:x0_s85 -dist=9.329839999999974\nINFO:sensitivity:x0_s85 +dist=31.394310000000022\nINFO:sensitivity:x0_s86 -dist=45.78492000000028\nINFO:sensitivity:x0_s86 +dist=3.2913799999999993\nINFO:sensitivity:x0_s87 -dist=0.045160000000000027\nINFO:sensitivity:x0_s87 +dist=49.56275000000003\nINFO:sensitivity:x0_s88 -dist=78.51624000000002\nINFO:sensitivity:x0_s88 +dist=4.894620000000026\nINFO:sensitivity:x0_s89 -dist=35.39241\nINFO:sensitivity:x0_s89 +dist=46.93973000000015\nWARNING:sensitivity:no -dist found for x0_s90@p1.0\nINFO:sensitivity:x0_s90 -dist=0\nINFO:sensitivity:x0_s90 +dist=0.9712099999999999\nWARNING:sensitivity:no -dist found for x0_s91@p1.0\nINFO:sensitivity:x0_s91 -dist=0\nINFO:sensitivity:x0_s91 +dist=9.320879999999994\nINFO:sensitivity:x0_s92 -dist=21.02751000000001\nINFO:sensitivity:x0_s92 +dist=16.401360000000004\nINFO:sensitivity:x0_s93 -dist=9.621309999999996\nINFO:sensitivity:x0_s93 +dist=6.165759999999996\nINFO:sensitivity:x0_s94 -dist=38.294780000000024\nINFO:sensitivity:x0_s94 +dist=4.509339999999975\nINFO:sensitivity:x0_s95 -dist=14.182159999999994\n"
    }
   ],
   "source": [
    "from sensitivity import find_feature_sensitivity_boundaries\n",
    "import pandas as pd\n",
    "n_inputs=25\n",
    "samples = pd.read_csv('../logs/sensitivity/samples.csv', index_col=0, header=0)\n",
    "samples = [(s[0:n_inputs].tolist(), s[n_inputs:].tolist()) for s in samples.values]\n",
    "find_feature_sensitivity_boundaries('../artifacts/models/model_v3.2.0/model.h5', 0, samples, d_min=0.00001, d_max=100, verbose=1)"
   ]
  },
  {
   "cell_type": "code",
   "execution_count": null,
   "metadata": {},
   "outputs": [],
   "source": [
    "# from sensitivity import find_sensitivity_boundaries\n",
    "\n",
    "# results = find_sensitivity_boundaries(model_path, samples[:10], d_min=0.00001, d_max=100, multithread=True, save_results=True, save_samples=True)\n",
    "\n",
    "# for x,result in results.items():\n",
    "#     dists,_ = result\n",
    "#     print(x, dists)"
   ]
  },
  {
   "cell_type": "code",
   "execution_count": null,
   "metadata": {},
   "outputs": [],
   "source": [
    "# from tensorflow.keras.models import load_model\n",
    "\n",
    "# model = load_model('../artifacts/models/model_v3.2.0/model.h5')\n",
    "# inputs,outputs = samples[6]\n",
    "# d = 49.69331\n",
    "# x = 0\n",
    "# pred = model.predict([inputs[0:x] + [inputs[x]+d] + inputs[x+1:]])\n",
    "\n",
    "# # assert that prediction was correct\n",
    "# assert(outputs.index(max(outputs)) == list(pred[0]).index(max(pred[0])))"
   ]
  },
  {
   "cell_type": "code",
   "execution_count": null,
   "metadata": {},
   "outputs": [],
   "source": [
    "# from maraboupy import Marabou, MarabouCore\n",
    "\n",
    "# pb_path = '../artifacts/models/model-v3.1.4/model.pb'\n",
    "# net = Marabou.read_tf(pb_path)\n",
    "\n",
    "# sample = samples[0]\n",
    "# inputs, outputs = sample\n",
    "# expected_cat = outputs.index(max(outputs))\n",
    "# other_cats = [i for i in range(len(outputs)) if i != expected_cat]\n",
    "\n",
    "# for x,v in enumerate(inputs):\n",
    "#     net.setLowerBound(net.inputVars[0][x], v)\n",
    "#     net.setUpperBound(net.inputVars[0][x], v)\n",
    "# for c in other_cats:\n",
    "#     print('OC:', c)\n",
    "#     eq1 = MarabouCore.Equation(MarabouCore.Equation.LE)\n",
    "#     eq1.addAddend(1, net.outputVars[0][c])\n",
    "#     eq1.addAddend(-1, net.outputVars[0][0])\n",
    "#     eq1.setScalar(0)\n",
    "# pred = net.evaluate([input_sample], useMarabou=False)\n",
    "# print(pred)"
   ]
  },
  {
   "cell_type": "code",
   "execution_count": null,
   "metadata": {},
   "outputs": [],
   "source": [
    "from sensitivity import verify_sensitivity_boundaries\n",
    "import pandas as pd\n",
    "\n",
    "nnet_path = '../network/models/v3.2.0/model.nnet'\n",
    "n_inputs=25\n",
    "samples = pd.read_csv('../logs/sensitivity/samples.csv', index_col=0, header=0)\n",
    "samples = [(s[0:n_inputs].tolist(), s[n_inputs:].tolist()) for s in samples.values]\n",
    "\n",
    "distances = pd.read_csv('../logs/sensitivity/summary.csv', usecols=['x', 'dneg', 'dpos'], index_col='x')\n",
    "distances = [tuple(row) for row in distances.values]\n",
    "\n",
    "counterexamples = verify_sensitivity_boundaries(nnet_path, samples, distances, precision_adjustment=0, timeout=10, verbose=0)\n",
    "\n",
    "print(f'counterexamples in {len(counterexamples.keys())} fields')\n",
    "# for ce in counterexamples:\n",
    "#     print(ce, counterexamples[ce])"
   ]
  },
  {
   "cell_type": "code",
   "execution_count": null,
   "metadata": {},
   "outputs": [],
   "source": [
    "\n",
    "# from tot_net import TOTNet\n",
    "\n",
    "# x=0\n",
    "# s=87\n",
    "# p=0.00003\n",
    "# net = TOTNet(nnet_path)\n",
    "# inputs, outputs = samples[s]\n",
    "# expected_category = outputs.index(max(outputs))\n",
    "# other_categories = [o for o in range(len(outputs)) if o != expected_category]\n",
    "# negd, posd = distances[x][0]+p, distances[x][1]-p\n",
    "# lbounds=inputs[0:x] + [inputs[x]+negd] + inputs[x+1:]\n",
    "# ubounds=inputs[0:x] + [inputs[x]+posd] + inputs[x+1:]\n",
    "\n",
    "# print(f'sample {s}:', samples[s])\n",
    "# print(f'x{x} dists:', (negd, posd))\n",
    "# print(f'x{x} lbs:', lbounds[x])\n",
    "# print(f'x{x} ubs:', ubounds[x])\n",
    "# res=[]\n",
    "# for oc in other_categories:\n",
    "#     net.reset_query()\n",
    "#     net.set_lower_bounds(lbounds)\n",
    "#     net.set_upper_bounds(ubounds)\n",
    "#     net.set_expected_category(oc)\n",
    "#     vals, _ = net.solve(timeout=10)\n",
    "#     if len(vals[0]) > 0 or len(vals[1]) > 0:\n",
    "#         res.append(vals)\n",
    "#         print('VALS:', vals)\n",
    "\n",
    "# print('\\nRES:', res)"
   ]
  }
 ],
 "metadata": {
  "language_info": {
   "codemirror_mode": {
    "name": "ipython",
    "version": 3
   },
   "file_extension": ".py",
   "mimetype": "text/x-python",
   "name": "python",
   "nbconvert_exporter": "python",
   "pygments_lexer": "ipython3",
   "version": "3.7.7-final"
  },
  "orig_nbformat": 2,
  "kernelspec": {
   "name": "python37764bitvenvvenv2f570c7c66434947b458a57674f581a2",
   "display_name": "Python 3.7.7 64-bit ('venv': venv)"
  }
 },
 "nbformat": 4,
 "nbformat_minor": 2
}