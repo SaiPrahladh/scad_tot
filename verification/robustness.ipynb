{
 "cells": [
  {
   "cell_type": "code",
   "execution_count": 1,
   "metadata": {},
   "outputs": [],
   "source": [
    "import sys\n",
    "import numpy as np\n",
    "import pickle as pkl\n",
    "from IPython.display import display\n",
    "from maraboupy import Marabou, MarabouCore\n",
    "from utils import TOTUtils\n",
    "# from robustness import test_input_robustness, test_network_robustness\n",
    "from robustness import test_network_sensitivity"
   ]
  },
  {
   "cell_type": "code",
   "execution_count": 2,
   "metadata": {},
   "outputs": [],
   "source": [
    "sample_input = [\n",
    "    0.2622614500364243, -0.22479658685112885, -0.14872559153186365,-0.1183740939370412,       -0.11582643087693376, 0.4638055359970424, 0.5343624908151317, -1.8587238209603285,        -1.925346908225373, 0.7745258391529399, 1.691414092773877, -1.1513317010900714,           0.15687995017838718, -0.4932713694542802, 0.3758603164252629, -0.6443093237643779,        0.5198151301903109, -0.1392841543884293, -0.17885723928180608, -0.7026510235427964,       -0.04793722518544871, -0.4594806526602232, 0.18987588687321624, 0.4657886911920623,       -0.1626985247701109]\n",
    "sample_output = [1, 0, 0]\n",
    "samples = [(sample_input, sample_output)]\n",
    "\n",
    "nnet_path = '../artifacts/models/model-v3.1.3/model.nnet'"
   ]
  },
  {
   "cell_type": "code",
   "execution_count": 3,
   "metadata": {},
   "outputs": [],
   "source": [
    "# x = 0\n",
    "# d = 1.1\n",
    "# input_samples = [sample_input]\n",
    "# output_samples = [sample_output]\n",
    "# test_input_robustness(nnet_path, x, d, input_samples, output_samples)"
   ]
  },
  {
   "cell_type": "code",
   "execution_count": 4,
   "metadata": {},
   "outputs": [],
   "source": [
    "# distances = [0.0] * len(sample_input)\n",
    "\n",
    "# # Max UNSAT distances per feature for sample_input\n",
    "# distances[0] = 1.16\n",
    "# distances[1] = 0.37\n",
    "# distances[2] = 0.18\n",
    "# distances[3] = 1.48\n",
    "# distances[4] = 0.31\n",
    "# distances[5] = 0.92\n",
    "# distances[6] = 0.27\n",
    "# distances[7] = 1.89\n",
    "# distances[8] = 1.61\n",
    "# distances[9] = 6.85\n",
    "# distances[10] = 25.53\n",
    "# distances[11] = 0.40\n",
    "# distances[12] = 1.09\n",
    "# distances[13] = 0.22\n",
    "# distances[14] = 1.21\n",
    "# distances[15] = 1.32\n",
    "# distances[16] = 0.66\n",
    "# distances[17] = 0.39\n",
    "# distances[18] = 1.04\n",
    "# distances[19] = 0.17\n",
    "# distances[20] = 6.20\n",
    "# distances[21] = 1.15\n",
    "# distances[22] = 0.42\n",
    "# distances[23] = 2.82\n",
    "# distances[24] = 0.81\n",
    "\n",
    "# results = test_network_robustness(nnet_path, distances, [sample_input], [sample_output])\n",
    "# # print(results)\n",
    "# for x,x_results in results.items():\n",
    "#     for i,sample_result in x_results.items():\n",
    "#         for category_results in sample_result:\n",
    "#             for cr in category_results:\n",
    "#                 assert len(cr) == 0, 'SAT. Found counterexample'\n",
    "# print('UNSAT.')"
   ]
  },
  {
   "cell_type": "code",
   "execution_count": 5,
   "metadata": {},
   "outputs": [],
   "source": [
    "# from robustness import find_feature_sensitivity\n",
    "\n",
    "# find_feature_sensitivity(nnet_path, 1, samples, d_min=0.01, d_max=26.00, d_step=0.01)"
   ]
  },
  {
   "cell_type": "code",
   "execution_count": 6,
   "metadata": {},
   "outputs": [],
   "source": [
    "# test_network_sensitivity(nnet_path, len(sample_input), [(sample_input, sample_output)])"
   ]
  },
  {
   "cell_type": "code",
   "execution_count": 7,
   "metadata": {},
   "outputs": [],
   "source": [
    "# from robustness import evaluate_sample\n",
    "# x=0\n",
    "# d=4.92\n",
    "# s=sample_input[0:x] + [sample_input[x]-d] + sample_input[x+1:]\n",
    "# evaluate_sample(nnet_path, s, sample_output)"
   ]
  },
  {
   "cell_type": "code",
   "execution_count": 10,
   "metadata": {
    "tags": [
     "outputPrepend",
     "outputPrepend",
     "outputPrepend",
     "outputPrepend",
     "outputPrepend",
     "outputPrepend",
     "outputPrepend",
     "outputPrepend",
     "outputPrepend",
     "outputPrepend",
     "outputPrepend",
     "outputPrepend",
     "outputPrepend",
     "outputPrepend",
     "outputPrepend",
     "outputPrepend",
     "outputPrepend",
     "outputPrepend",
     "outputPrepend",
     "outputPrepend",
     "outputPrepend",
     "outputPrepend",
     "outputPrepend",
     "outputPrepend",
     "outputPrepend",
     "outputPrepend",
     "outputPrepend",
     "outputPrepend",
     "outputPrepend",
     "outputPrepend",
     "outputPrepend",
     "outputPrepend",
     "outputPrepend",
     "outputPrepend",
     "outputPrepend",
     "outputPrepend",
     "outputPrepend",
     "outputPrepend"
    ]
   },
   "outputs": [],
   "source": [
    "from robustness import find_feature_sensitivity\n",
    "# from robustness import test_network_sensitivity\n",
    "\n",
    "# increase recursion limit\n",
    "sys.setrecursionlimit(10**6)\n",
    "\n",
    "find_feature_sensitivity(nnet_path, 1, samples)"
   ]
  },
  {
   "cell_type": "code",
   "execution_count": null,
   "metadata": {},
   "outputs": [],
   "source": []
  }
 ],
 "metadata": {
  "language_info": {
   "codemirror_mode": {
    "name": "ipython",
    "version": 3
   },
   "file_extension": ".py",
   "mimetype": "text/x-python",
   "name": "python",
   "nbconvert_exporter": "python",
   "pygments_lexer": "ipython3",
   "version": "3.7.7-final"
  },
  "orig_nbformat": 2,
  "kernelspec": {
   "name": "python37764bitvenvvenv2f570c7c66434947b458a57674f581a2",
   "display_name": "Python 3.7.7 64-bit ('venv': venv)"
  }
 },
 "nbformat": 4,
 "nbformat_minor": 2
}