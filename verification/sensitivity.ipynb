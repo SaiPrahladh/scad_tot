{
 "cells": [
  {
   "cell_type": "code",
   "execution_count": 1,
   "metadata": {},
   "outputs": [],
   "source": [
    "import sys\n",
    "import numpy as np\n",
    "import pickle as pkl\n",
    "from IPython.display import display\n",
    "from maraboupy import Marabou, MarabouCore\n",
    "from utils import TOTUtils"
   ]
  },
  {
   "cell_type": "code",
   "execution_count": 2,
   "metadata": {},
   "outputs": [
    {
     "output_type": "stream",
     "name": "stdout",
     "text": "1329 correct samples\n"
    }
   ],
   "source": [
    "nnet_path = '../artifacts/models/model_v3.2.0/model.h5'\n",
    "test_data_csv = '../data/v3.2.0/test.csv'\n",
    "all_samples = TOTUtils.load_samples(test_data_csv, frac=0.01)\n",
    "samples = TOTUtils.filter_samples(all_samples, nnet_path)\n",
    "print(f'{len(samples)} correct samples')"
   ]
  },
  {
   "cell_type": "code",
   "execution_count": 3,
   "metadata": {},
   "outputs": [],
   "source": [
    "# # Make sure that all of the sample inputs return correct category.\n",
    "# from tot_net import TOTNet\n",
    "\n",
    "# x=0\n",
    "# dists=(0,0)\n",
    "# res = []\n",
    "# for i,sample in enumerate(samples):\n",
    "#     inputs, outputs = sample\n",
    "#     exp_cat = outputs.index(max(outputs))\n",
    "#     other_cats = [i for i in range(5) if i != exp_cat]\n",
    "#     net = TOTNet(nnet_path)\n",
    "#     net.set_lower_bounds(inputs)\n",
    "#     net.set_upper_bounds(inputs)\n",
    "#     net.set_input_lower_bound(x, inputs[x]+dists[0])\n",
    "#     net.set_input_upper_bound(x, inputs[x]+dists[1])\n",
    "#     res.append([])\n",
    "#     for oc in other_cats:\n",
    "#         net.set_expected_category(oc)\n",
    "#         r,_ = net.solve()\n",
    "#         res[-1].append(r)\n",
    "\n",
    "# wrong_preds = [ir for r in res for cr in r for ir in cr if len(ir) > 0]\n",
    "# assert(len(wrong_preds) == 0)"
   ]
  },
  {
   "cell_type": "code",
   "execution_count": 4,
   "metadata": {
    "tags": [
     "outputPrepend",
     "outputPrepend"
    ]
   },
   "outputs": [],
   "source": [
    "# from sensitivity import find_feature_sensitivity_boundaries\n",
    "\n",
    "# find_feature_sensitivity_boundaries('../artifacts/models/model_v3.2.0/model.h5', 0, samples[::], d_min=0.00001, d_max=50, multithread=True, verbose=1)"
   ]
  },
  {
   "cell_type": "code",
   "execution_count": 5,
   "metadata": {},
   "outputs": [],
   "source": [
    "from sensitivity import find_sensitivity_boundaries, save_sensitivity_results_to_csv\n",
    "\n",
    "h5_path = '../artifacts/models/model_v3.2.0/model.h5'\n",
    "results = find_sensitivity_boundaries(h5_path, samples, d_min=0.00001, d_max=100, multithread=True, save_results=True)\n",
    "\n",
    "for x,result in results.items():\n",
    "    dists,_ = result\n",
    "    print(x, dists)"
   ]
  },
  {
   "cell_type": "code",
   "execution_count": 6,
   "metadata": {},
   "outputs": [],
   "source": [
    "# from tensorflow.keras.models import load_model\n",
    "\n",
    "# model = load_model('../artifacts/models/model_v3.2.0/model.h5')\n",
    "# inputs,outputs = samples[6]\n",
    "# d = 49.69331\n",
    "# x = 0\n",
    "# pred = model.predict([inputs[0:x] + [inputs[x]+d] + inputs[x+1:]])\n",
    "\n",
    "# # assert that prediction was correct\n",
    "# assert(outputs.index(max(outputs)) == list(pred[0]).index(max(pred[0])))"
   ]
  },
  {
   "cell_type": "code",
   "execution_count": 7,
   "metadata": {},
   "outputs": [],
   "source": [
    "# from maraboupy import Marabou, MarabouCore\n",
    "\n",
    "# pb_path = '../artifacts/models/model-v3.1.4/model.pb'\n",
    "# net = Marabou.read_tf(pb_path)\n",
    "\n",
    "# sample = samples[0]\n",
    "# inputs, outputs = sample\n",
    "# expected_cat = outputs.index(max(outputs))\n",
    "# other_cats = [i for i in range(len(outputs)) if i != expected_cat]\n",
    "\n",
    "# for x,v in enumerate(inputs):\n",
    "#     net.setLowerBound(net.inputVars[0][x], v)\n",
    "#     net.setUpperBound(net.inputVars[0][x], v)\n",
    "# for c in other_cats:\n",
    "#     print('OC:', c)\n",
    "#     eq1 = MarabouCore.Equation(MarabouCore.Equation.LE)\n",
    "#     eq1.addAddend(1, net.outputVars[0][c])\n",
    "#     eq1.addAddend(-1, net.outputVars[0][0])\n",
    "#     eq1.setScalar(0)\n",
    "# pred = net.evaluate([input_sample], useMarabou=False)\n",
    "# print(pred)"
   ]
  },
  {
   "cell_type": "code",
   "execution_count": null,
   "metadata": {},
   "outputs": [],
   "source": []
  }
 ],
 "metadata": {
  "language_info": {
   "codemirror_mode": {
    "name": "ipython",
    "version": 3
   },
   "file_extension": ".py",
   "mimetype": "text/x-python",
   "name": "python",
   "nbconvert_exporter": "python",
   "pygments_lexer": "ipython3",
   "version": "3.7.7-final"
  },
  "orig_nbformat": 2,
  "kernelspec": {
   "name": "python37764bitvenvvenv2f570c7c66434947b458a57674f581a2",
   "display_name": "Python 3.7.7 64-bit ('venv': venv)"
  }
 },
 "nbformat": 4,
 "nbformat_minor": 2
}