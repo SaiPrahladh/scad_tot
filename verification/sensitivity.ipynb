{
 "cells": [
  {
   "cell_type": "code",
   "execution_count": null,
   "metadata": {},
   "outputs": [],
   "source": [
    "import sys\n",
    "import numpy as np\n",
    "import pickle as pkl\n",
    "from IPython.display import display\n",
    "from maraboupy import Marabou, MarabouCore\n",
    "from utils import TOTUtils"
   ]
  },
  {
   "cell_type": "code",
   "execution_count": 1,
   "metadata": {},
   "outputs": [],
   "source": [
    "import pandas as pd\n",
    "samples_path = '../logs/samples.csv'\n",
    "samples = pd.read_csv(samples_path, index_col=0)\n",
    "samples = [(s[0:25].tolist(), s[25:].tolist()) for s in samples.values][0:1]"
   ]
  },
  {
   "cell_type": "code",
   "execution_count": null,
   "metadata": {},
   "outputs": [],
   "source": [
    "from tot_net import TOTNet\n",
    "from maraboupy import Marabou, MarabouUtils\n",
    "from sensitivity import test_sensitivity\n",
    "\n",
    "nnet_path = '../network/models/v3.2.0/model.nnet'\n",
    "sym_results = test_sensitivity(nnet_path, samples, e_min=0.0001, e_max=100, e_prec=0.00001, save_results=True, save_samples=True, verbose=2, outdir='../logs/test/sensitivity/asymmetric')\n",
    "asym_results = test_sensitivity(nnet_path, samples, e_min=0.0001, e_max=100, e_prec=0.00001, asym=True, save_results=True, save_samples=True, verbose=2, outdir='../logs/test/sensitivity/asymmetric')\n",
    "\n",
    "print('SYM RESULTS:', sym_results)\n",
    "print('ASYM RESULTS:', asym_results)"
   ]
  },
  {
   "cell_type": "code",
   "execution_count": null,
   "metadata": {},
   "outputs": [],
   "source": [
    "from tot_net import TOTNet\n",
    "\n",
    "def check_input_epsilons(net, sample, x, le, ue, asym=False):\n",
    "    inputs, outputs = sample\n",
    "    y = outputs.index(max(outputs))\n",
    "    lbs = inputs[0:x] + [inputs[x]+le] + inputs[x+1:]\n",
    "    ubs = inputs[0:x] + [inputs[x]+ue] + inputs[x+1:]\n",
    "    result = None\n",
    "    if asym:\n",
    "        result = (net.find_misclassification(lbs, inputs, y),\n",
    "                  net.find_misclassification(inputs, ubs, y))\n",
    "    else:\n",
    "        result = net.find_misclassification(lbs, ubs, y)\n",
    "    return result\n",
    "\n",
    "sym_tests = {}\n",
    "asym_tests = {}\n",
    "net = TOTNet(nnet_path)\n",
    "for x in range(net.get_num_inputs()):\n",
    "    xid = f'x{x}'\n",
    "    sym_tests[xid] = []\n",
    "    asym_tests[xid] = []\n",
    "    for sample in samples:\n",
    "        sym_le, sym_ue = sym_results[xid][0]\n",
    "        sym_cexs = check_input_epsilons(net, sample, x, sym_le, sym_ue)\n",
    "        sym_tests[xid].append(sym_cexs)\n",
    "\n",
    "        asym_le, asym_ue = asym_results[xid][0]\n",
    "        asym_cexs = check_input_epsilons(net, sample, x, asym_le, asym_ue, asym=True)\n",
    "        asym_tests[xid].append(asym_cexs)\n",
    "\n",
    "print('SYM TESTS:', sym_tests)\n",
    "print('ASYM TESTS:', asym_tests)"
   ]
  },
  {
   "cell_type": "code",
   "execution_count": null,
   "metadata": {},
   "outputs": [],
   "source": [
    "# model_path = '../artifacts/models/model_v3.2.0/model.h5'\n",
    "# data_csv = '../data/v3.2.0/test.csv'\n",
    "# all_samples = TOTUtils.load_samples(data_csv, frac=0.0001)\n",
    "# samples = TOTUtils.filter_samples(all_samples, model_path)\n",
    "# print(f'{len(samples)} correct samples')\n",
    "from tot_net import TOTNet\n",
    "nnet_path = '../network/models/v3.2.0/model.nnet'\n",
    "net = TOTNet(nnet_path)\n",
    "sample = samples[0]\n",
    "inputs, outputs = sample\n",
    "net.evaluate([inputs])"
   ]
  },
  {
   "cell_type": "code",
   "execution_count": null,
   "metadata": {
    "tags": [
     "outputPrepend",
     "outputPrepend"
    ]
   },
   "outputs": [],
   "source": [
    "# from sensitivity import find_feature_sensitivity_boundaries\n",
    "# import pandas as pd\n",
    "# n_inputs=25\n",
    "# samples = pd.read_csv('../logs/sensitivity/samples.csv', index_col=0, header=0)\n",
    "# samples = [(s[0:n_inputs].tolist(), s[n_inputs:].tolist()) for s in samples.values]\n",
    "# find_feature_sensitivity_boundaries('../artifacts/models/model_v3.2.0/model.h5', 0, samples, d_min=0.00001, d_max=100, verbose=1)"
   ]
  },
  {
   "cell_type": "code",
   "execution_count": null,
   "metadata": {},
   "outputs": [],
   "source": [
    "# from sensitivity import find_sensitivity_boundaries\n",
    "\n",
    "# results = find_sensitivity_boundaries(model_path, samples[:10], d_min=0.00001, d_max=100, multithread=True, save_results=True, save_samples=True)\n",
    "\n",
    "# for x,result in results.items():\n",
    "#     dists,_ = result\n",
    "#     print(x, dists)"
   ]
  },
  {
   "cell_type": "code",
   "execution_count": null,
   "metadata": {},
   "outputs": [],
   "source": [
    "# from tensorflow.keras.models import load_model\n",
    "\n",
    "# model = load_model('../artifacts/models/model_v3.2.0/model.h5')\n",
    "# inputs,outputs = samples[6]\n",
    "# d = 49.69331\n",
    "# x = 0\n",
    "# pred = model.predict([inputs[0:x] + [inputs[x]+d] + inputs[x+1:]])\n",
    "\n",
    "# # assert that prediction was correct\n",
    "# assert(outputs.index(max(outputs)) == list(pred[0]).index(max(pred[0])))"
   ]
  },
  {
   "cell_type": "code",
   "execution_count": null,
   "metadata": {},
   "outputs": [],
   "source": [
    "# from maraboupy import Marabou, MarabouCore\n",
    "\n",
    "# pb_path = '../artifacts/models/model-v3.1.4/model.pb'\n",
    "# net = Marabou.read_tf(pb_path)\n",
    "\n",
    "# sample = samples[0]\n",
    "# inputs, outputs = sample\n",
    "# expected_cat = outputs.index(max(outputs))\n",
    "# other_cats = [i for i in range(len(outputs)) if i != expected_cat]\n",
    "\n",
    "# for x,v in enumerate(inputs):\n",
    "#     net.setLowerBound(net.inputVars[0][x], v)\n",
    "#     net.setUpperBound(net.inputVars[0][x], v)\n",
    "# for c in other_cats:\n",
    "#     print('OC:', c)\n",
    "#     eq1 = MarabouCore.Equation(MarabouCore.Equation.LE)\n",
    "#     eq1.addAddend(1, net.outputVars[0][c])\n",
    "#     eq1.addAddend(-1, net.outputVars[0][0])\n",
    "#     eq1.setScalar(0)\n",
    "# pred = net.evaluate([input_sample], useMarabou=False)\n",
    "# print(pred)"
   ]
  },
  {
   "cell_type": "code",
   "execution_count": null,
   "metadata": {},
   "outputs": [],
   "source": [
    "from maraboupy import Marabou, MarabouCore\n",
    "\n",
    "nnet_path = '../artifacts/models/v3.2.0/model.nnet'\n",
    "net = Marabou.read_nnet(nnet_path)\n",
    "samples = pd.read_csv('../logs/sensitivity/samples.csv', index_col=0, header=0)\n",
    "samples = [(s[0:n_inputs].tolist(), s[n_inputs:].tolist()) for s in samples.values]\n",
    "# samples = samples[0:10]\n",
    "sample = samples[0]\n",
    "inputs, outputs = sample\n",
    "expected_cat = outputs.index(max(outputs))\n",
    "other_cats = [i for i in range(len(outputs)) if i != expected_cat]\n",
    "for x,v in enumerate(inputs):\n",
    "    net.setLowerBound(net.inputVars[0][x], v)\n",
    "    net.setUpperBound(net.inputVars[0][x], v)\n",
    "for c in other_cats:\n",
    "    eq1 = MarabouCore.Equation(MarabouCore.Equation.GE)\n",
    "    eq1.addAddend(1, net.outputVars[0][c])\n",
    "    eq1.addAddend(-1, net.outputVars[0][expected_cat])\n",
    "    eq1.setScalar(0)\n",
    "\n",
    "eq1 = MarabouCore.Equation(MarabouCore.Equation.LE)\n",
    "eq1.addAddend(-1, net.outputVars[0][expected_cat])\n",
    "eq1.addAddend(net.outputVars[])\n",
    "\n",
    "# y0 -y1 >= 0\n",
    "# y2 -y1 >= 0\n",
    "result = net.evaluate([inputs])\n",
    "print(result)"
   ]
  },
  {
   "cell_type": "code",
   "execution_count": null,
   "metadata": {},
   "outputs": [],
   "source": [
    "# from sensitivity import verify_sensitivity_boundaries\n",
    "# import pandas as pd\n",
    "\n",
    "# nnet_path = '../network/models/v3.2.0/model.nnet'\n",
    "# n_inputs=25\n",
    "# samples = pd.read_csv('../logs/sensitivity/samples.csv', index_col=0, header=0)\n",
    "# samples = [(s[0:n_inputs].tolist(), s[n_inputs:].tolist()) for s in samples.values]\n",
    "\n",
    "# distances = pd.read_csv('../logs/sensitivity/summary.csv', usecols=['x', 'dneg', 'dpos'], index_col='x')\n",
    "# distances = [tuple(row) for row in distances.values]\n",
    "\n",
    "# counterexamples = verify_sensitivity_boundaries(nnet_path, samples, distances, precision_adjustment=0, timeout=10, verbose=0)\n",
    "\n",
    "# print(f'counterexamples in {len(counterexamples.keys())} fields')\n",
    "# # for ce in counterexamples:\n",
    "# #     print(ce, counterexamples[ce])"
   ]
  },
  {
   "cell_type": "code",
   "execution_count": null,
   "metadata": {},
   "outputs": [],
   "source": [
    "\n",
    "# from tot_net import TOTNet\n",
    "\n",
    "# x=0\n",
    "# s=87\n",
    "# p=0.00003\n",
    "# net = TOTNet(nnet_path)\n",
    "# inputs, outputs = samples[s]\n",
    "# expected_category = outputs.index(max(outputs))\n",
    "# other_categories = [o for o in range(len(outputs)) if o != expected_category]\n",
    "# negd, posd = distances[x][0]+p, distances[x][1]-p\n",
    "# lbounds=inputs[0:x] + [inputs[x]+negd] + inputs[x+1:]\n",
    "# ubounds=inputs[0:x] + [inputs[x]+posd] + inputs[x+1:]\n",
    "\n",
    "# print(f'sample {s}:', samples[s])\n",
    "# print(f'x{x} dists:', (negd, posd))\n",
    "# print(f'x{x} lbs:', lbounds[x])\n",
    "# print(f'x{x} ubs:', ubounds[x])\n",
    "# res=[]\n",
    "# for oc in other_categories:\n",
    "#     net.reset_query()\n",
    "#     net.set_lower_bounds(lbounds)\n",
    "#     net.set_upper_bounds(ubounds)\n",
    "#     net.set_expected_category(oc)\n",
    "#     vals, _ = net.solve(timeout=10)\n",
    "#     if len(vals[0]) > 0 or len(vals[1]) > 0:\n",
    "#         res.append(vals)\n",
    "#         print('VALS:', vals)\n",
    "\n",
    "# print('\\nRES:', res)"
   ]
  }
 ],
 "metadata": {
  "language_info": {
   "codemirror_mode": {
    "name": "ipython",
    "version": 3
   },
   "file_extension": ".py",
   "mimetype": "text/x-python",
   "name": "python",
   "nbconvert_exporter": "python",
   "pygments_lexer": "ipython3",
   "version": "3.7.7-final"
  },
  "orig_nbformat": 2,
  "kernelspec": {
   "name": "python37764bitvenvvenv2f570c7c66434947b458a57674f581a2",
   "display_name": "Python 3.7.7 64-bit ('venv': venv)"
  }
 },
 "nbformat": 4,
 "nbformat_minor": 2
}