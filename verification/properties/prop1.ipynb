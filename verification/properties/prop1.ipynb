{
 "cells": [
  {
   "cell_type": "markdown",
   "metadata": {},
   "source": [
    "# Property 1\n",
    "\n",
    "When the speed is above some value X, the response time should be fast"
   ]
  },
  {
   "cell_type": "code",
   "execution_count": 1,
   "metadata": {},
   "outputs": [],
   "source": [
    "import numpy as np\n",
    "import pickle as pkl\n",
    "from IPython.display import display\n",
    "from maraboupy import Marabou, MarabouCore\n",
    "from tot_net import TOTNet\n",
    "from utils import TOTUtils"
   ]
  },
  {
   "cell_type": "code",
   "execution_count": 2,
   "metadata": {},
   "outputs": [],
   "source": [
    "scaler = pkl.load(open('../artifacts/models/model-v3.1.3/scaler.pkl', 'rb'))"
   ]
  },
  {
   "cell_type": "code",
   "execution_count": 10,
   "metadata": {},
   "outputs": [
    {
     "output_type": "stream",
     "name": "stdout",
     "text": "MPH:  16\nLB: -6.063369704602864 UB: -4.323801571766653\ninput 0 = -2.1958183933902657\ninput 1 = -0.9218404096016499\ninput 2 = 1.550939755700669\ninput 3 = -7.840597477008769\ninput 4 = -3.860713107664526\ninput 5 = -3.412495447675348\ninput 6 = -1.7610494161362942\ninput 7 = -4.983149090231912\ninput 8 = -4.59119944336732\ninput 9 = -2.8561078258250947\ninput 10 = 3.616791689733317\ninput 11 = -2.151794107088169\ninput 12 = 8.54348126833861\ninput 13 = 7.772695881292872\ninput 14 = -2.8088424397151117\ninput 15 = 3.602113971350218\ninput 16 = -6.063369704602864\ninput 17 = 1.1855172913269616\ninput 18 = 6.375826883636779\ninput 19 = 0.9500068314226782\ninput 20 = 19.883865370062658\ninput 21 = -6.592688082997744\ninput 22 = 1.1438256908205822\ninput 23 = 5.5865695760377205\ninput 24 = -6.740304193095428\noutput 0 = 1.12587\noutput 1 = -1.20557\noutput 2 = 0.383193\n"
    }
   ],
   "source": [
    "nnet_file = '../artifacts/models/model-v3.1.3/model.nnet'\n",
    "net = TOTNet(nnet_file)\n",
    "\n",
    "# when speed is 'high'\n",
    "mph_x = TOTUtils.get_feature_index('MPH')\n",
    "print(f'MPH x={mph_x}')\n",
    "mph_lb = TOTUtils.get_scaled_value(scaler, mph_x, 1)\n",
    "mph_ub = TOTUtils.get_scaled_value(scaler, mph_x, 10)\n",
    "\n",
    "print(f'LB: {mph_lb}, UB: {mph_ub}')\n",
    "net.set_input_lower_bound(mph_x, mph_lb)\n",
    "net.set_input_upper_bound(mph_x, mph_lb)\n",
    "\n",
    "# output is fast\n",
    "net.set_expected_category(0)\n",
    "\n",
    "vals, stats = net.solve()\n",
    "print('\\n'.join(vals))"
   ]
  },
  {
   "cell_type": "code",
   "execution_count": null,
   "metadata": {},
   "outputs": [],
   "source": []
  }
 ],
 "metadata": {
  "language_info": {
   "codemirror_mode": {
    "name": "ipython",
    "version": 3
   },
   "file_extension": ".py",
   "mimetype": "text/x-python",
   "name": "python",
   "nbconvert_exporter": "python",
   "pygments_lexer": "ipython3",
   "version": "3.7.7-final"
  },
  "orig_nbformat": 2,
  "kernelspec": {
   "name": "python37764bitvenvvenv2f570c7c66434947b458a57674f581a2",
   "display_name": "Python 3.7.7 64-bit ('venv': venv)"
  }
 },
 "nbformat": 4,
 "nbformat_minor": 2
}