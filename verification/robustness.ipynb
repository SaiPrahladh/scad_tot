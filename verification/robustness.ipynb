{
 "cells": [
  {
   "cell_type": "code",
   "execution_count": null,
   "metadata": {},
   "outputs": [],
   "source": [
    "import sys\n",
    "import numpy as np\n",
    "from IPython.display import display\n",
    "from maraboupy import Marabou, MarabouCore\n",
    "from utils import TOTUtils"
   ]
  },
  {
   "cell_type": "code",
   "execution_count": null,
   "metadata": {},
   "outputs": [],
   "source": [
    "nnet_path = '../artifacts/models/model_v3.2.0/model.h5'\n",
    "data_csv = '../data/v3.2.0/test.csv'\n",
    "# TODO: increase frac!\n",
    "all_samples = TOTUtils.load_samples(data_csv, frac=0.001)\n",
    "samples = TOTUtils.filter_samples(all_samples, nnet_path)\n",
    "print(f'{len(samples)} correct samples')"
   ]
  },
  {
   "cell_type": "code",
   "execution_count": null,
   "metadata": {},
   "outputs": [],
   "source": [
    "from robustness import find_local_robustness_boundaries\n",
    "\n",
    "h5_path = '../artifacts/models/model_v3.2.0/model.h5'\n",
    "results = find_local_robustness_boundaries(h5_path, samples, d_min=0.00001, d_max=100, multithread=True, save_results=True, save_samples=True)\n",
    "summary, _ = results\n",
    "print(f'summary: {summary}')"
   ]
  }
 ],
 "metadata": {
  "language_info": {
   "codemirror_mode": {
    "name": "ipython",
    "version": 3
   },
   "file_extension": ".py",
   "mimetype": "text/x-python",
   "name": "python",
   "nbconvert_exporter": "python",
   "pygments_lexer": "ipython3",
   "version": "3.7.7-final"
  },
  "orig_nbformat": 2,
  "kernelspec": {
   "name": "python37764bitvenvvenv2f570c7c66434947b458a57674f581a2",
   "display_name": "Python 3.7.7 64-bit ('venv': venv)"
  }
 },
 "nbformat": 4,
 "nbformat_minor": 2
}