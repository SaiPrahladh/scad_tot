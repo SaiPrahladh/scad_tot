{
 "cells": [
  {
   "cell_type": "code",
   "execution_count": null,
   "metadata": {},
   "outputs": [],
   "source": [
    "import sys\n",
    "import numpy as np\n",
    "import pickle as pkl\n",
    "from IPython.display import display\n",
    "from maraboupy import Marabou, MarabouCore\n",
    "from utils import TOTUtils"
   ]
  },
  {
   "cell_type": "code",
   "execution_count": null,
   "metadata": {},
   "outputs": [],
   "source": [
    "nnet_path = '../artifacts/models/model_v3.2.0/model.nnet'\n",
    "samples = [\n",
    "    ([0.23926416842332435, -0.15174888439921375, -0.12715716851930392, -0.06499066379491034, -0.044038348638094, 0.1696394926078468, 0.17266346380653805, -1.548838700876472, -1.6586087971561412, -1.8489723834384288, -1.4227079179070772, 0.87197434103912, -0.019598968186462968, 0.577800190511209, -0.059858693698986526, -1.1658575654628252, 0.4958656259366621, -0.12424305809637555, -0.16772960456016833, 0.8476144787315946, -0.045996647048947785, 0.014017849899019642, 0.18448958004575428, -0.011143585743942823, -0.16232216451525688], [0, 0, 0, 0, 1]),\n",
    "    ([-0.8847857612749404, -0.521481694095034, 0.23971489027617424, -2.841449302879792, -0.3287709780785481, 0.3500090605840506, 0.34486979854621663, 0.032749509571762786, -0.1245473741798485, -0.42739944664292173, 0.1184099632211035, 0.87197434103912, 0.4026174898726433, 0.577800190511209, 0.8769875942252039, 0.0942851491156983, -0.5520591210972142, -0.12424305809637555, -0.16772960456016833, 0.5386158600825256, -0.045996647048947785, -0.5110723043104969, 0.18448958004575428, 0.5249958339057111, -0.16232216451525688], [1, 0, 0, 0, 0]),\n",
    "    ([0.23926416842332435, -0.15174888439921375, -0.12715716851930392, -0.06499066379491034, -0.044038348638094, 0.5128756606151952, 0.5460505324643175, 0.1054662089027162, 0.027172986334290068, 0.4740242450728791, 0.4968616960551124, -1.146822736559327, -0.5036032005956823, -0.497276625704834, -1.1338044383925707, 0.09852965464566116, 0.50521358017017, -0.12424305809637555, -0.16772960456016833, 0.6931151694070601, -0.045996647048947785, 0.8000223664486681, 0.18448958004575428, -0.797262121303865, -0.16232216451525688], [0, 0, 0, 0, 1]),\n",
    "    ([-0.6783931569609206, -1.6131861394889246, -1.6978010063564997, -0.4487627051921355, -0.7329043552479885, 0.4630367010428232, 0.4659609196409431, 0.06910785923723949, 0.21260898251823804, 0.2770745309164856, -0.08056981383595273, 0.87197434103912, -0.029896930578148486, 0.577800190511209, -0.08270860316055212, 0.4651480097760592, -3.491132241942634, -0.12424305809637555, -0.16772960456016833, -0.07938137721561211, -0.045996647048947785, -0.11970076080029796, 0.18448958004575428, 0.12371356889185944, -0.16232216451525688], [0, 0, 0, 1, 0]),\n",
    "    ([-0.10101637780397928, 1.1170620485395577, 2.1002625136576145, 0.4495155396735373, 0.33131353796487106, 0.5146556234570657, 0.547417249406696, -0.6580591340722936, -0.6977131805665956, 0.5851240838277677, 0.5397789028713402, 0.87197434103912, -0.019598968186462968, 0.577800190511209, -0.059858693698986526, 0.0163679078809576, 0.4943394293271092, -0.12424305809637555, -0.16772960456016833, 0.5386158600825256, -0.045996647048947785, 0.017279279428270938, 0.18448958004575428, -0.014432784637498619, -0.16232216451525688], [0, 0, 0, 1, 0]),\n",
    "    ([0.4737478367413922, -1.6408242267140865, -1.7717185677626357, -1.6736875845544166, -1.500757771869925, 0.3378459811646027, 0.3511566964811572, -1.1488968545562286, -1.3383102582929594, -0.05369998901284189, -0.5643637815825209, 0.87197434103912, 0.1348704676888198, 0.577800190511209, 0.28288994822449776, 0.11085276103163444, 0.4970102733938264, -0.12424305809637555, -0.16772960456016833, -0.23388068654014654, -0.045996647048947785, -0.23058936479485434, 0.18448958004575428, 0.23554633127276964, -0.16232216451525688], [0, 0, 1, 0, 0]),\n",
    "    ([-0.4667754234237611, 0.8841124562131941, 0.37550027546188497, -0.4732612027793811, 0.40540465711260176, 0.5152489444043559, 0.5296499291557766, 0.050928684404501545, 0.21260898251823804, 0.2694995419104705, 0.610007059479713, -1.146822736559327, 0.1348704676888198, -0.497276625704834, 0.28288994822449776, 0.6134670173903752, 0.5031150598320351, -0.12424305809637555, -0.16772960456016833, -1.4698751611364218, -0.045996647048947785, -0.3675694050234247, 0.18448958004575428, 0.3769818836956842, -0.16232216451525688], [0, 0, 1, 0, 0]),\n",
    "    ([-0.5738905724981258, -0.3359116798689477, -0.6494125889441789, 0.00037641724070090553, 0.03494906137394817, 0.4980426369329416, 0.5340234233713876, -0.3853715115812188, -0.4111302773732217, 0.4285743110367883, 0.2900787904860148, -1.146822736559327, -0.2770480279786009, -0.497276625704834, -0.6311064302381271, 0.5704385315850763, 0.4979641462747957, -0.12424305809637555, -0.16772960456016833, -2.08787239843456, -0.045996647048947785, 0.5260622859915288, 0.18448958004575428, -0.5275478120322591, -0.16232216451525688], [1, 0, 0, 0, 0]),\n",
    "    ([-1.09379093020053, 0.550481260423741, 0.059596575868472786, -2.465805673208692, 0.12251129309399356, 0.4078578529448396, 0.3891514274792768, -0.0763255394246673, -0.1245473741798485, -0.32387459689404835, 0.3798147683744911, -1.146822736559327, -0.019598968186462968, -0.497276625704834, -0.059858693698986526, 0.07987003071661089, 0.5092198462702451, -0.12424305809637555, -0.16772960456016833, -1.3153758518118877, -0.045996647048947785, 0.017279279428270938, 0.18448958004575428, -0.014432784637498619, -0.16232216451525688], [0, 0, 1, 0, 0]),\n",
    "    ([0.23926416842332435, -0.15174888439921375, -0.12715716851930392, -0.06499066379491034, -0.044038348638094, 0.34229588826927865, 0.3473298890424978, -0.0399671897591906, -0.040258285005327236, 0.20637463352701105, -0.7555404301275357, -1.146822736559327, -0.019598968186462968, -0.497276625704834, -0.059858693698986526, 0.4025526774856876, 0.508647522541663, -0.12424305809637555, -0.16772960456016833, 0.5386158600825256, -0.045996647048947785, 0.017279279428270938, 0.18448958004575428, -0.017721983531054416, -0.16232216451525688], [0, 0, 0, 1, 0])\n",
    "]"
   ]
  },
  {
   "cell_type": "code",
   "execution_count": null,
   "metadata": {},
   "outputs": [],
   "source": [
    "# Make sure that all of the sample inputs return correct category.\n",
    "from tot_net import TOTNet\n",
    "\n",
    "x=0\n",
    "dists=(0,0)\n",
    "res = []\n",
    "for i,sample in enumerate(samples):\n",
    "    inputs, outputs = sample\n",
    "    exp_cat = outputs.index(max(outputs))\n",
    "    other_cats = [i for i in range(5) if i != exp_cat]\n",
    "    net = TOTNet(nnet_path)\n",
    "    net.set_lower_bounds(inputs)\n",
    "    net.set_upper_bounds(inputs)\n",
    "    net.set_input_lower_bound(x, inputs[x]+dists[0])\n",
    "    net.set_input_upper_bound(x, inputs[x]+dists[1])\n",
    "    res.append([])\n",
    "    for oc in other_cats:\n",
    "        net.set_expected_category(oc)\n",
    "        r,_ = net.solve()\n",
    "        res[-1].append(r)\n",
    "\n",
    "wrong_preds = [ir for r in res for cr in r for ir in cr if len(ir) > 0]\n",
    "assert(len(wrong_preds) == 0)"
   ]
  },
  {
   "cell_type": "code",
   "execution_count": null,
   "metadata": {},
   "outputs": [],
   "source": [
    "# from sensitivity import find_feature_sensitivity_boundaries_binarysearch\n",
    "# find_feature_sensitivity_boundaries_binarysearch(nnet_path, 0, [samples[0], samples[1]], d_min=0.001, verbose=True)"
   ]
  },
  {
   "cell_type": "code",
   "execution_count": null,
   "metadata": {},
   "outputs": [],
   "source": [
    "# from sensitivity import find_feature_sensitivity_boundaries_bruteforce\n",
    "# find_feature_sensitivity_boundaries_bruteforce(nnet_path, 0, samples, d_min=0.00001, d_max=50, d_step=0.000001, verbose=True)"
   ]
  },
  {
   "cell_type": "code",
   "execution_count": null,
   "metadata": {},
   "outputs": [],
   "source": [
    "# from sensitivity import find_feature_sensitivity_boundaries_bruteforce_optimized\n",
    "\n",
    "# find_feature_sensitivity_boundaries_bruteforce_optimized('../artifacts/models/model_v3.2.0/model.h5', 0, samples, d_min=0.00001, d_max=50, d_step=0.000001, verbose=True)"
   ]
  },
  {
   "cell_type": "code",
   "execution_count": null,
   "metadata": {
    "tags": [
     "outputPrepend",
     "outputPrepend"
    ]
   },
   "outputs": [],
   "source": [
    "from sensitivity import find_feature_sensitivity_boundaries_x\n",
    "\n",
    "find_feature_sensitivity_boundaries_x('../artifacts/models/model_v3.2.0/model.h5', 0, [samples[9]], d_min=0.0001, d_max=50, verbose=True)"
   ]
  },
  {
   "cell_type": "code",
   "execution_count": null,
   "metadata": {},
   "outputs": [],
   "source": [
    "# from tensorflow.keras.models import load_model\n",
    "# model = load_model('../artifacts/models/model_v3.2.0/model.h5')\n",
    "# inputs,outputs = samples[0]\n",
    "# d = 0.0325\n",
    "# x = 0\n",
    "# pred = model.predict([inputs[0:x] + [inputs[x]+d] + inputs[x+1:]])\n",
    "\n",
    "# assert(outputs.index(max(outputs)) == list(pred[0]).index(max(pred[0])))"
   ]
  },
  {
   "cell_type": "code",
   "execution_count": null,
   "metadata": {},
   "outputs": [],
   "source": []
  },
  {
   "cell_type": "code",
   "execution_count": null,
   "metadata": {},
   "outputs": [],
   "source": [
    "# from sensitivity import find_sensitivity_boundaries\n",
    "\n",
    "# h5_path = '../artifacts/models/model_v3.2.0/model.h5'\n",
    "# results = find_sensitivity_boundaries(h5_path, samples, d_min=0.0001, d_max=50, d_step=0.0001, use_marabou=False, verbose=True)\n",
    "\n",
    "# for x,result in results.items():\n",
    "#     dists,_ = result\n",
    "#     print(x, dists)"
   ]
  },
  {
   "cell_type": "code",
   "execution_count": null,
   "metadata": {},
   "outputs": [],
   "source": [
    "# from maraboupy import Marabou, MarabouCore\n",
    "\n",
    "# pb_path = '../artifacts/models/model-v3.1.4/model.pb'\n",
    "# net = Marabou.read_tf(pb_path)\n",
    "\n",
    "# sample = samples[0]\n",
    "# inputs, outputs = sample\n",
    "# expected_cat = outputs.index(max(outputs))\n",
    "# other_cats = [i for i in range(len(outputs)) if i != expected_cat]\n",
    "\n",
    "# for x,v in enumerate(inputs):\n",
    "#     net.setLowerBound(net.inputVars[0][x], v)\n",
    "#     net.setUpperBound(net.inputVars[0][x], v)\n",
    "# for c in other_cats:\n",
    "#     print('OC:', c)\n",
    "#     eq1 = MarabouCore.Equation(MarabouCore.Equation.LE)\n",
    "#     eq1.addAddend(1, net.outputVars[0][c])\n",
    "#     eq1.addAddend(-1, net.outputVars[0][0])\n",
    "#     eq1.setScalar(0)\n",
    "# pred = net.evaluate([input_sample], useMarabou=False)\n",
    "# print(pred)"
   ]
  },
  {
   "cell_type": "code",
   "execution_count": null,
   "metadata": {},
   "outputs": [],
   "source": [
    "# from tensorflow.keras.models import load_model\n",
    "\n",
    "# sample = samples[0]\n",
    "# inputs,outputs = sample\n",
    "# model = load_model('../artifacts/models/model-v3.1.4/model.h5')\n",
    "# pred = model.predict([s[0] for s in samples])\n",
    "\n",
    "# for p in pred:\n",
    "#     print(list(p).index(max(p)))"
   ]
  }
 ],
 "metadata": {
  "language_info": {
   "codemirror_mode": {
    "name": "ipython",
    "version": 3
   },
   "file_extension": ".py",
   "mimetype": "text/x-python",
   "name": "python",
   "nbconvert_exporter": "python",
   "pygments_lexer": "ipython3",
   "version": "3.7.7-final"
  },
  "orig_nbformat": 2,
  "kernelspec": {
   "name": "python37764bitvenvvenv2f570c7c66434947b458a57674f581a2",
   "display_name": "Python 3.7.7 64-bit ('venv': venv)"
  }
 },
 "nbformat": 4,
 "nbformat_minor": 2
}