{
 "cells": [
  {
   "cell_type": "code",
   "execution_count": null,
   "metadata": {},
   "outputs": [],
   "source": [
    "import pandas as pd\n",
    "samples_path = '../logs/samples.csv'\n",
    "samples = pd.read_csv(samples_path, index_col=0)\n",
    "samples = [(s[0:25].tolist(), s[25:].tolist()) for s in samples.values][0:1]"
   ]
  },
  {
   "cell_type": "code",
   "execution_count": null,
   "metadata": {},
   "outputs": [],
   "source": [
    "from sensitivity import test_sensitivity\n",
    "\n",
    "nnet_path = '../network/models/v3.2.2/model.nnet'\n",
    "sym_results = test_sensitivity(nnet_path, samples, e_min=0.0001, e_max=100, e_prec=0.00001, save_results=True, save_samples=True, verbose=2, outdir='../logs/test/sensitivity/symmetric')\n",
    "asym_results = test_sensitivity(nnet_path, samples, e_min=0.0001, e_max=100, e_prec=0.00001, asym=True, save_results=True, save_samples=True, verbose=2, outdir='../logs/test/sensitivity/asymmetric')\n",
    "\n",
    "print('Symmetric results: ', sym_results)\n",
    "print('Asymmetric results: ', asym_results)"
   ]
  },
  {
   "cell_type": "code",
   "execution_count": null,
   "metadata": {},
   "outputs": [],
   "source": [
    "from sensitivity import check_sensitivity\n",
    "\n",
    "sym_check_results = check_sensitivity(nnet_path, samples, sym_results)\n",
    "asym_check_results = check_sensitivity(nnet_path, samples, asym_results, asym=True)\n",
    "\n",
    "print('Symmetric check results:', sym_check_results)\n",
    "print('Asymmetric check results:', asym_check_results)"
   ]
  },
  {
   "cell_type": "code",
   "execution_count": null,
   "metadata": {},
   "outputs": [],
   "source": [
    "from sensitivity import test_sensitivity\n",
    "from clustering import LGKMeansUtils\n",
    "\n",
    "nnet_path = '../network/models/latest/model.nnet'\n",
    "n_outputs = 5\n",
    "lgkm = LGKMeansUtils.load('../artifacts/lgkm.pkl')\n",
    "slow_regions = lgkm.get_regions(category=4, sort=True)\n",
    "region = slow_regions[0] \n",
    "s = (region.centroid.tolist(), [1 if y==region.category else 0 for y in range(n_outputs)])\n",
    "\n",
    "sym_results = test_sensitivity(nnet_path, [s], e_min=0.001, e_max=region.radius, e_prec=0.0001, verbose=2)\n",
    "print('Symmetric results: ', sym_results)"
   ]
  },
  {
   "cell_type": "code",
   "execution_count": null,
   "metadata": {},
   "outputs": [],
   "source": [
    "from sensitivity import test_sensitivity\n",
    "from clustering import LGKMeansUtils\n",
    "\n",
    "nnet_path = '../network/models/latest/model.nnet'\n",
    "n_outputs = 5\n",
    "lgkm = LGKMeansUtils.load('../artifacts/lgkm.pkl')\n",
    "slow_regions = [r for r in lgkm.get_regions(category=4, sort=True) if r.n > 1]\n",
    "slow_results = []\n",
    "for r in slow_regions:\n",
    "    s = (r.centroid.tolist(), [1 if y==r.category else 0 for y in range(n_outputs)])\n",
    "    result = test_sensitivity(nnet_path, [s], asym=True, e_min=0.001, e_max=r.radii.max(), e_prec=0.0001, verbose=2)\n",
    "    slow_results.append(result)\n",
    "print('Slow Symmetric results complete.')"
   ]
  },
  {
   "cell_type": "code",
   "execution_count": null,
   "metadata": {},
   "outputs": [],
   "source": [
    "# slow_results"
   ]
  }
 ],
 "metadata": {
  "language_info": {
   "codemirror_mode": {
    "name": "ipython",
    "version": 3
   },
   "file_extension": ".py",
   "mimetype": "text/x-python",
   "name": "python",
   "nbconvert_exporter": "python",
   "pygments_lexer": "ipython3",
   "version": "3.7.7-final"
  },
  "orig_nbformat": 2,
  "kernelspec": {
   "name": "python37764bitvenvvenv2f570c7c66434947b458a57674f581a2",
   "display_name": "Python 3.7.7 64-bit ('venv': venv)"
  }
 },
 "nbformat": 4,
 "nbformat_minor": 2
}