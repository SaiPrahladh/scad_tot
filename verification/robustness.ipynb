{
 "cells": [
  {
   "cell_type": "code",
   "execution_count": 15,
   "metadata": {},
   "outputs": [],
   "source": [
    "import pandas as pd\n",
    "samples_path = '../logs/samples.csv'\n",
    "samples = pd.read_csv(samples_path, index_col=0)\n",
    "samples = [(s[0:25].tolist(), s[25:].tolist()) for s in samples.values][0:2]"
   ]
  },
  {
   "cell_type": "code",
   "execution_count": 20,
   "metadata": {
    "tags": []
   },
   "outputs": [
    {
     "output_type": "stream",
     "name": "stderr",
     "text": "INFO:robustness:searching 9 coarse epsilons b/t 1e-06 and 9e-06\nINFO:robustness:searching 9 coarse epsilons b/t 1e-05 and 9e-05\nINFO:robustness:searching 9 coarse epsilons b/t 0.0001 and 0.0009\nINFO:robustness:searching 9 coarse epsilons b/t 0.001 and 0.009\nINFO:robustness:searching 9 coarse epsilons b/t 0.01 and 0.09\nINFO:robustness:s0 coarse epsilon bounds: (0.02, 0.03) (2187ms)\nINFO:robustness:searching 1000 epsilons b/t 0.02 and 0.02999\nINFO:robustness:s0 epsilon: 0.02147 (780ms)\nINFO:robustness:searching 9 coarse epsilons b/t 1e-06 and 9e-06\nINFO:robustness:searching 9 coarse epsilons b/t 1e-05 and 9e-05\nINFO:robustness:searching 9 coarse epsilons b/t 0.0001 and 0.0009\nINFO:robustness:searching 9 coarse epsilons b/t 0.001 and 0.009\nINFO:robustness:s1 coarse epsilon bounds: (0.001, 0.002) (1908ms)\nINFO:robustness:searching 100 epsilons b/t 0.001 and 0.00199\nINFO:robustness:s1 epsilon: 0.00124 (609ms)\nINFO:robustness:local robustness: (-0.00124, 0.00124) (5486ms)\n"
    },
    {
     "output_type": "execute_result",
     "data": {
      "text/plain": "((-0.00124, 0.00124), [(0.02147, 0.02147), (0.00124, 0.00124)])"
     },
     "metadata": {},
     "execution_count": 20
    }
   ],
   "source": [
    "nnet_path = '../network/models/v3.2.0/model.nnet'\n",
    "test_local_robustness(nnet_path, samples, e_min=0.0001, e_max=100, e_prec=0.00001, verbose=2)"
   ]
  },
  {
   "cell_type": "code",
   "execution_count": 2,
   "metadata": {},
   "outputs": [
    {
     "output_type": "stream",
     "name": "stderr",
     "text": "INFO:robustness:searching 9 coarse epsilons b/t 1e-06 and 9e-06\nINFO:robustness:searching 9 coarse epsilons b/t 1e-05 and 9e-05\nINFO:robustness:searching 9 coarse epsilons b/t 0.0001 and 0.0009\nINFO:robustness:searching 9 coarse epsilons b/t 0.001 and 0.009\nINFO:robustness:searching 9 coarse epsilons b/t 0.01 and 0.09\nINFO:robustness:s0 coarse epsilon bounds: (0.01, 0.02) (2242ms)\nINFO:robustness:searching 1000 epsilons b/t 0.01 and 0.01999\nINFO:robustness:s0 epsilon: 0.01606 (1115ms)\nINFO:robustness:searching 9 coarse epsilons b/t 1e-06 and 9e-06\nINFO:robustness:searching 9 coarse epsilons b/t 1e-05 and 9e-05\nINFO:robustness:searching 9 coarse epsilons b/t 0.0001 and 0.0009\nINFO:robustness:searching 9 coarse epsilons b/t 0.001 and 0.009\nINFO:robustness:s1 coarse epsilon bounds: (0.005, 0.006) (1847ms)\nINFO:robustness:searching 100 epsilons b/t 0.005 and 0.00599\nINFO:robustness:s1 epsilon: 0.00533 (535ms)\nINFO:robustness:local robustness: (-0.00533, 0.00533) (5743ms)\nINFO:robustness:wrote summary to ../logs/test/robustness/symmetric/local_summary.csv\nINFO:robustness:wrote detils to ../logs/test/robustness/symmetric/local_details.csv\nINFO:robustness:searching 9 coarse l_epsilons b/t 1e-06 and 9e-06\nINFO:robustness:searching 9 coarse l_epsilons b/t 1e-05 and 9e-05\nINFO:robustness:searching 9 coarse l_epsilons b/t 0.0001 and 0.0009\nINFO:robustness:searching 9 coarse l_epsilons b/t 0.001 and 0.009\nINFO:robustness:searching 9 coarse l_epsilons b/t 0.01 and 0.09\nINFO:robustness:s0 lower epsilon coarse bounds: (0.04, 0.05) (2729ms)\nINFO:robustness:searching 9 coarse u_epsilons b/t 1e-06 and 9e-06\nINFO:robustness:searching 9 coarse u_epsilons b/t 1e-05 and 9e-05\nINFO:robustness:searching 9 coarse u_epsilons b/t 0.0001 and 0.0009\nINFO:robustness:searching 9 coarse u_epsilons b/t 0.001 and 0.009\nINFO:robustness:searching 9 coarse u_epsilons b/t 0.01 and 0.09\nINFO:robustness:s0 upper epsilon coarse bounds: (0.02, 0.03) (2067ms)\nINFO:robustness:searching 1001 l_epsilons b/t 0.04 and 0.05\nINFO:robustness:s0 lower epsilon: 0.04164 (2602ms)\nINFO:robustness:searching 1000 u_epsilons b/t 0.02 and 0.02999\nINFO:robustness:s0 upper epsilon: 0.02475 (926ms)\nINFO:robustness:searching 9 coarse l_epsilons b/t 1e-06 and 9e-06\nINFO:robustness:searching 9 coarse l_epsilons b/t 1e-05 and 9e-05\nINFO:robustness:searching 9 coarse l_epsilons b/t 0.0001 and 0.0009\nINFO:robustness:searching 9 coarse l_epsilons b/t 0.001 and 0.009\nINFO:robustness:s1 lower epsilon coarse bounds: (0.007, 0.008) (2009ms)\nINFO:robustness:searching 9 coarse u_epsilons b/t 1e-06 and 9e-06\nINFO:robustness:searching 9 coarse u_epsilons b/t 1e-05 and 9e-05\nINFO:robustness:searching 9 coarse u_epsilons b/t 0.0001 and 0.0009\nINFO:robustness:searching 9 coarse u_epsilons b/t 0.001 and 0.009\nINFO:robustness:s1 upper epsilon coarse bounds: (0.006, 0.007) (1852ms)\nINFO:robustness:searching 100 l_epsilons b/t 0.007 and 0.00799\nINFO:robustness:s1 lower epsilon: 0.0072 (795ms)\nINFO:robustness:searching 100 u_epsilons b/t 0.006 and 0.00699\nINFO:robustness:s1 upper epsilon: 0.00606 (461ms)\nINFO:robustness:asymm local robustness: (-0.0072, 0.00606) (13445ms)\nINFO:robustness:wrote summary to ../logs/test/robustness/asymmetric/local_summary.csv\nINFO:robustness:wrote detils to ../logs/test/robustness/asymmetric/local_details.csv\nSymmetric results:  ((-0.00533, 0.00533), [(0.01606, 0.01606), (0.00533, 0.00533)])\nAsymmetric results:  ((-0.0072, 0.00606), [(0.04164, 0.02475), (0.0072, 0.00606)])\n"
    }
   ],
   "source": [
    "from robustness import test_local_robustness\n",
    "\n",
    "nnet_path = '../network/models/v3.2.0/model.nnet'\n",
    "sym_results = test_local_robustness(nnet_path, samples, e_min=0.0001, e_max=100, e_prec=0.00001, save_results=True, save_samples=True, verbose=2, outdir='../logs/test/robustness/symmetric')\n",
    "asym_results = test_local_robustness(nnet_path, samples, e_min=0.0001, e_max=100, e_prec=0.00001, asym=True, save_results=True, save_samples=True, verbose=2, outdir='../logs/test/robustness/asymmetric')\n",
    "\n",
    "print('Symmetric results: ', sym_results)\n",
    "print('Asymmetric results: ', asym_results)"
   ]
  },
  {
   "cell_type": "code",
   "execution_count": 3,
   "metadata": {},
   "outputs": [
    {
     "output_type": "stream",
     "name": "stderr",
     "text": "INFO:robustness:s1 ok (-0.00533, 0.00533)\nINFO:robustness:s1 ok (-0.0072, 0.00606)\nSymmetric check results: {'s0': None, 's1': None}\nAsymmetric check results: {'s0': (None, None), 's1': (None, None)}\n"
    }
   ],
   "source": [
    "from robustness import check_local_robustness\n",
    "\n",
    "nnet_path = '../network/models/v3.2.0/model.nnet'\n",
    "sym_check_results = check_local_robustness(nnet_path, samples, sym_results)\n",
    "asym_check_results = check_local_robustness(nnet_path, samples, asym_results, asym=True)\n",
    "\n",
    "print('Symmetric check results:', sym_check_results)\n",
    "print('Asymmetric check results:', asym_check_results)"
   ]
  },
  {
   "cell_type": "code",
   "execution_count": 3,
   "metadata": {},
   "outputs": [],
   "source": [
    "from clustering import LGKUtils\n",
    "\n",
    "lgkmc = LGKUtils.load('../artifacts/lgkm.pkl')\n",
    "regions = lgkmc.get_regions(sort=True)\n",
    "r0 = regions[0]"
   ]
  },
  {
   "cell_type": "code",
   "execution_count": null,
   "metadata": {},
   "outputs": [],
   "source": []
  }
 ],
 "metadata": {
  "language_info": {
   "codemirror_mode": {
    "name": "ipython",
    "version": 3
   },
   "file_extension": ".py",
   "mimetype": "text/x-python",
   "name": "python",
   "nbconvert_exporter": "python",
   "pygments_lexer": "ipython3",
   "version": "3.7.7-final"
  },
  "orig_nbformat": 2,
  "kernelspec": {
   "name": "python37764bitvenvvenv2f570c7c66434947b458a57674f581a2",
   "display_name": "Python 3.7.7 64-bit ('venv': venv)"
  }
 },
 "nbformat": 4,
 "nbformat_minor": 2
}