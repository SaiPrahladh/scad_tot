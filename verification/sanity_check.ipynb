{
 "cells": [
  {
   "cell_type": "code",
   "execution_count": 1,
   "metadata": {},
   "outputs": [],
   "source": [
    "import sys, os, re\n",
    "import numpy as np\n",
    "from IPython.display import display\n",
    "from maraboupy import Marabou, MarabouCore\n",
    "from utils import print_heading"
   ]
  },
  {
   "cell_type": "markdown",
   "metadata": {},
   "source": [
    "## Sanity Checks"
   ]
  },
  {
   "cell_type": "code",
   "execution_count": 2,
   "metadata": {},
   "outputs": [
    {
     "output_type": "stream",
     "name": "stdout",
     "text": "----------------------------------------\nTest prediction result:\n\nCorrect. [3.42226921215419, 0.7439608810539671, -0.968015911041988] => [1, 0, 0]\n----------------------------------------\nTest Property 1: (should be SAT)\n\nSAT {0: 0.2622614500364243, 1: -0.22479658685112885, 2: -0.14872559153186365, 3: -0.1183740939370412, 4: -0.11582643087693376, 5: 0.4638055359970424, 6: 0.5343624908151317, 7: -1.8587238209603285, 8: -1.925346908225373, 9: 0.7745258391529399, 10: 1.691414092773877, 11: -1.1513317010900714, 12: 0.15687995017838718, 13: -0.4932713694542802, 14: 0.3758603164252629, 15: -0.6443093237643779, 16: 0.5198151301903109, 17: -0.1392841543884293, 18: -0.17885723928180608, 19: -0.7026510235427964, 20: -0.04793722518544871, 21: -0.4594806526602232, 22: 0.18987588687321624, 23: 0.4657886911920623, 24: -0.1626985247701109, 25: -0.1798375862409151, 26: -3.4656777908717995, 27: -4.243789887386027, 28: 0.32501762803016865, 29: 3.853034099913437, 30: 4.399095996609731, 31: -9.626309318272101, 32: -0.7704702886372795, 33: -0.013512712128640414, 34: 3.8183771274201384, 35: 4.067093732612552, 36: -3.5125557434451182, 37: 0.2438672306260148, 38: -2.894663748308306, 39: -6.985840593012916, 40: -7.472961340234802, 41: -0.5861608514905347, 42: 0.055604501508875526, 43: 0.1736258417780017, 44: 1.1102178534161056, 45: -2.037330542848953, 46: -1.997869107068075, 47: -2.6549650472834556, 48: 0.0, 49: 0.0, 50: 0.0, 51: 0.32501762803016865, 52: 3.853034099913437, 53: 4.399095996609731, 54: 0.0, 55: 0.0, 56: 0.0, 57: 3.8183771274201384, 58: 4.067093732612552, 59: 0.0, 60: 0.2438672306260148, 61: 0.0, 62: 0.0, 63: 0.0, 64: 0.0, 65: 0.055604501508875526, 66: 0.1736258417780017, 67: 1.1102178534161056, 68: 0.0, 69: 0.0, 70: 0.0, 71: -33.281844052960956, 72: 4.329992208929259, 73: 9.190077902146145, 74: -11.178882428110978, 75: -6.314414363408844, 76: -10.187904744069712, 77: -1.8913778788114717, 78: -12.278715925829976, 79: -2.4847684881047636, 80: -34.44467022005419, 81: 2.639574610428833, 82: -18.552811219995146, 83: -11.654556419726928, 84: 8.43487374719227, 85: 0.0, 86: 4.329992208929259, 87: 9.190077902146145, 88: 0.0, 89: 0.0, 90: 0.0, 91: 0.0, 92: 0.0, 93: 0.0, 94: 0.0, 95: 2.639574610428833, 96: 0.0, 97: 0.0, 98: 8.43487374719227, 99: 8.041219906903704, 100: -4.500512879539183, 101: -27.306152771455956, 102: 0.43151593253336973, 103: 6.313925995204364, 104: 10.534110294577285, 105: -36.93657223496983, 106: -5.67783267087942, 107: 8.041219906903704, 108: 0.0, 109: 0.0, 110: 0.43151593253336973, 111: 6.313925995204364, 112: 10.534110294577285, 113: 0.0, 114: 0.0, 115: 3.42226921215419, 116: 0.7439608810539671, 117: -0.968015911041988}\n----------------------------------------\nTest Property 2: (should be UNSAT)\n\nUNSAT {}\n----------------------------------------\nTest Property 3: (should be UNSAT)\n\nUNSAT {}\n"
    }
   ],
   "source": [
    "# 0. Prediction of a known value using the network.\n",
    "nnet_file = '../artifacts/models/model-v3.1.3/model.nnet'\n",
    "test_net = Marabou.read_nnet(nnet_file)\n",
    "sample_input = [0.2622614500364243, -0.22479658685112885, -0.14872559153186365,-0.1183740939370412, -0.11582643087693376, 0.4638055359970424, 0.5343624908151317, -1.8587238209603285, -1.925346908225373, 0.7745258391529399, 1.691414092773877, -1.1513317010900714, 0.15687995017838718, -0.4932713694542802, 0.3758603164252629, -0.6443093237643779, 0.5198151301903109, -0.1392841543884293, -0.17885723928180608, -0.7026510235427964, -0.04793722518544871, -0.4594806526602232, 0.18987588687321624, 0.4657886911920623, -0.1626985247701109]\n",
    "sample_output = [1, 0, 0]\n",
    "raw_result = list(test_net.evaluate([sample_input])[0])\n",
    "result = [1 if i == raw_result.index(max(raw_result)) else 0 for i in range(len(raw_result))]\n",
    "assert(result == sample_output)\n",
    "print_heading('Test prediction result:')\n",
    "print(f'Correct. {raw_result} => {result}')\n",
    "\n",
    "# 1. Sanity test_property_1 (correct class y0, should be SAT)\n",
    "prop1_file = '../artifacts/properties/model-v3.1.x/test_property_1.txt'\n",
    "prop1_out = '../logs/test_property_1.out'\n",
    "options = Marabou.createOptions(timeoutInSeconds=10)\n",
    "ipq = MarabouCore.InputQuery()\n",
    "MarabouCore.createInputQuery(ipq, nnet_file, prop1_file)\n",
    "vals, _ = MarabouCore.solve(ipq, options, prop1_out)\n",
    "print_heading('Test Property 1: (should be SAT)')\n",
    "assert(len(vals) > 0)\n",
    "print('SAT', vals)\n",
    "\n",
    "# 2. Sanity test_property_2 (incorrect class y2, should be UNSAT)\n",
    "prop2_file = '../artifacts/properties/model-v3.1.x/test_property_2.txt'\n",
    "prop2_out = '../logs/test_property_2.out'\n",
    "ipq2 = MarabouCore.InputQuery()\n",
    "MarabouCore.createInputQuery(ipq2, nnet_file, prop2_file)\n",
    "vals, _ = MarabouCore.solve(ipq2, options, prop2_out)\n",
    "print_heading('Test Property 2: (should be UNSAT)')\n",
    "assert(len(vals) == 0)\n",
    "print('UNSAT', vals)\n",
    "\n",
    "# 3. Sanity test_property_3 (incorrect class y2, should be UNSAT)\n",
    "prop3_file = '../artifacts/properties/model-v3.1.x/test_property_3.txt'\n",
    "prop3_out = '../logs/test_property_3.out'\n",
    "ipq3 = MarabouCore.InputQuery()\n",
    "MarabouCore.createInputQuery(ipq3, nnet_file, prop3_file)\n",
    "vals, _ = MarabouCore.solve(ipq3, options, prop3_out)\n",
    "print_heading('Test Property 3: (should be UNSAT)')\n",
    "assert(len(vals) == 0)\n",
    "print('UNSAT', vals)"
   ]
  }
 ],
 "metadata": {
  "language_info": {
   "codemirror_mode": {
    "name": "ipython",
    "version": 3
   },
   "file_extension": ".py",
   "mimetype": "text/x-python",
   "name": "python",
   "nbconvert_exporter": "python",
   "pygments_lexer": "ipython3",
   "version": "3.7.7-final"
  },
  "orig_nbformat": 2,
  "kernelspec": {
   "name": "python37764bitvenvvenv2f570c7c66434947b458a57674f581a2",
   "display_name": "Python 3.7.7 64-bit ('venv': venv)"
  }
 },
 "nbformat": 4,
 "nbformat_minor": 2
}