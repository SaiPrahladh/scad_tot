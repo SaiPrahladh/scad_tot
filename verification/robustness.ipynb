{
 "cells": [
  {
   "cell_type": "code",
   "execution_count": 1,
   "metadata": {},
   "outputs": [],
   "source": [
    "import sys\n",
    "import numpy as np\n",
    "import pickle as pkl\n",
    "from IPython.display import display\n",
    "from maraboupy import Marabou, MarabouCore\n",
    "from utils import TOTUtils"
   ]
  },
  {
   "cell_type": "code",
   "execution_count": 2,
   "metadata": {},
   "outputs": [],
   "source": [
    "sample_input = [\n",
    "    0.2622614500364243, -0.22479658685112885, -0.14872559153186365,-0.1183740939370412,       -0.11582643087693376, 0.4638055359970424, 0.5343624908151317, -1.8587238209603285,        -1.925346908225373, 0.7745258391529399, 1.691414092773877, -1.1513317010900714,           0.15687995017838718, -0.4932713694542802, 0.3758603164252629, -0.6443093237643779,        0.5198151301903109, -0.1392841543884293, -0.17885723928180608, -0.7026510235427964,       -0.04793722518544871, -0.4594806526602232, 0.18987588687321624, 0.4657886911920623,       -0.1626985247701109]\n",
    "sample_output = [1, 0, 0]\n",
    "samples = [(sample_input, sample_output)]\n",
    "\n",
    "nnet_path = '../artifacts/models/model-v3.1.3/model.nnet'"
   ]
  },
  {
   "cell_type": "code",
   "execution_count": 3,
   "metadata": {},
   "outputs": [],
   "source": [
    "# Max UNSAT distances per feature for sample_input\n",
    "# distances = [0.0] * len(sample_input)\n",
    "# distances[0] = 1.16\n",
    "# distances[1] = 0.37\n",
    "# distances[2] = 0.18\n",
    "# distances[3] = 1.48\n",
    "# distances[4] = 0.31\n",
    "# distances[5] = 0.92\n",
    "# distances[6] = 0.27\n",
    "# distances[7] = 1.89\n",
    "# distances[8] = 1.61\n",
    "# distances[9] = 6.85\n",
    "# distances[10] = 25.53\n",
    "# distances[11] = 0.40\n",
    "# distances[12] = 1.09\n",
    "# distances[13] = 0.22\n",
    "# distances[14] = 1.21\n",
    "# distances[15] = 1.32\n",
    "# distances[16] = 0.66\n",
    "# distances[17] = 0.39\n",
    "# distances[18] = 1.04\n",
    "# distances[19] = 0.17\n",
    "# distances[20] = 6.20\n",
    "# distances[21] = 1.15\n",
    "# distances[22] = 0.42\n",
    "# distances[23] = 2.82\n",
    "# distances[24] = 0.81"
   ]
  },
  {
   "cell_type": "code",
   "execution_count": 4,
   "metadata": {},
   "outputs": [
    {
     "output_type": "execute_result",
     "data": {
      "text/plain": "[['input 0 = 1.4322614500364241',\n  'input 1 = -0.22479658685112885',\n  'input 2 = -0.14872559153186365',\n  'input 3 = -0.1183740939370412',\n  'input 4 = -0.11582643087693376',\n  'input 5 = 0.4638055359970424',\n  'input 6 = 0.5343624908151317',\n  'input 7 = -1.8587238209603285',\n  'input 8 = -1.925346908225373',\n  'input 9 = 0.7745258391529399',\n  'input 10 = 1.691414092773877',\n  'input 11 = -1.1513317010900714',\n  'input 12 = 0.15687995017838718',\n  'input 13 = -0.4932713694542802',\n  'input 14 = 0.3758603164252629',\n  'input 15 = -0.6443093237643779',\n  'input 16 = 0.5198151301903109',\n  'input 17 = -0.1392841543884293',\n  'input 18 = -0.17885723928180608',\n  'input 19 = -0.7026510235427964',\n  'input 20 = -0.04793722518544871',\n  'input 21 = -0.4594806526602232',\n  'input 22 = 0.18987588687321624',\n  'input 23 = 0.4657886911920623',\n  'input 24 = -0.1626985247701109',\n  'output 0 = 3.5931542051395406',\n  'output 1 = 3.615030909085161',\n  'output 2 = -4.356136826230461']]"
     },
     "metadata": {},
     "execution_count": 4
    }
   ],
   "source": [
    "from robustness import evaluate_sample\n",
    "x=0\n",
    "d=1.17\n",
    "s=sample_input[0:x] + [sample_input[x]+d] + sample_input[x+1:]\n",
    "evaluate_sample(nnet_path, s, sample_output)"
   ]
  },
  {
   "cell_type": "code",
   "execution_count": 5,
   "metadata": {
    "tags": [
     "outputPrepend",
     "outputPrepend",
     "outputPrepend",
     "outputPrepend",
     "outputPrepend",
     "outputPrepend",
     "outputPrepend",
     "outputPrepend",
     "outputPrepend",
     "outputPrepend",
     "outputPrepend",
     "outputPrepend",
     "outputPrepend",
     "outputPrepend",
     "outputPrepend",
     "outputPrepend",
     "outputPrepend",
     "outputPrepend",
     "outputPrepend",
     "outputPrepend",
     "outputPrepend",
     "outputPrepend",
     "outputPrepend",
     "outputPrepend",
     "outputPrepend",
     "outputPrepend",
     "outputPrepend",
     "outputPrepend",
     "outputPrepend",
     "outputPrepend",
     "outputPrepend",
     "outputPrepend",
     "outputPrepend",
     "outputPrepend",
     "outputPrepend",
     "outputPrepend",
     "outputPrepend",
     "outputPrepend"
    ]
   },
   "outputs": [
    {
     "output_type": "execute_result",
     "data": {
      "text/plain": "{'x0': (-4.93, 1.17),\n 'x1': (-0.82, 0.38),\n 'x2': (-0.32, 0.19),\n 'x3': (-2.5, 1.49),\n 'x4': (-0.32, 1.17),\n 'x5': (-0.93, 0),\n 'x6': (-1.08, 0.28),\n 'x7': (-3.94, 1.9),\n 'x8': (-1.62, 2.62),\n 'x9': (-6.86, 9.24),\n 'x10': (-40.16, 25.54),\n 'x11': (-11.95, 0.41),\n 'x12': (-1.58, 1.1),\n 'x13': (-0.23, 4.1),\n 'x14': (-1.95, 1.22),\n 'x15': (-3.86, 1.33),\n 'x16': (-0.67, 1.84),\n 'x17': (-0.4, 0.66),\n 'x18': (-1.05, 1.28),\n 'x19': (-0.18, 0.5),\n 'x20': (-0.16, 6.21),\n 'x21': (-2.02, 1.16),\n 'x22': (-0.43, 0.9),\n 'x23': (-2.83, 8.19),\n 'x24': (-0.82, 8.24)}"
     },
     "metadata": {},
     "execution_count": 5
    }
   ],
   "source": [
    "# from robustness import find_feature_sensitivity_bruteforce\n",
    "# find_feature_sensitivity_bruteforce(nnet_path, 0, samples)\n",
    "\n",
    "from robustness import test_network_sensitivity\n",
    "test_network_sensitivity(nnet_path, len(samples[0][0]), samples)"
   ]
  },
  {
   "cell_type": "code",
   "execution_count": null,
   "metadata": {},
   "outputs": [],
   "source": []
  }
 ],
 "metadata": {
  "language_info": {
   "codemirror_mode": {
    "name": "ipython",
    "version": 3
   },
   "file_extension": ".py",
   "mimetype": "text/x-python",
   "name": "python",
   "nbconvert_exporter": "python",
   "pygments_lexer": "ipython3",
   "version": "3.7.7-final"
  },
  "orig_nbformat": 2,
  "kernelspec": {
   "name": "python37764bitvenvvenv2f570c7c66434947b458a57674f581a2",
   "display_name": "Python 3.7.7 64-bit ('venv': venv)"
  }
 },
 "nbformat": 4,
 "nbformat_minor": 2
}