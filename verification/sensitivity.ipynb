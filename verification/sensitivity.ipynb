{
 "cells": [
  {
   "cell_type": "code",
   "execution_count": 1,
   "metadata": {},
   "outputs": [],
   "source": [
    "import sys\n",
    "import numpy as np\n",
    "import pickle as pkl\n",
    "from IPython.display import display\n",
    "from maraboupy import Marabou, MarabouCore\n",
    "from utils import TOTUtils"
   ]
  },
  {
   "cell_type": "code",
   "execution_count": 2,
   "metadata": {},
   "outputs": [
    {
     "output_type": "stream",
     "name": "stdout",
     "text": "135 correct samples\n"
    }
   ],
   "source": [
    "model_path = '../artifacts/models/model_v3.2.0/model.h5'\n",
    "data_csv = '../data/v3.2.0/test.csv'\n",
    "all_samples = TOTUtils.load_samples(data_csv, frac=0.001)\n",
    "samples = TOTUtils.filter_samples(all_samples, model_path)\n",
    "print(f'{len(samples)} correct samples')"
   ]
  },
  {
   "cell_type": "code",
   "execution_count": 3,
   "metadata": {
    "tags": [
     "outputPrepend",
     "outputPrepend"
    ]
   },
   "outputs": [],
   "source": [
    "# from sensitivity import find_feature_sensitivity_boundaries\n",
    "\n",
    "# find_feature_sensitivity_boundaries('../artifacts/models/model_v3.2.0/model.h5', 0, samples[::], d_min=0.00001, d_max=50, multithread=True, verbose=1)"
   ]
  },
  {
   "cell_type": "code",
   "execution_count": 7,
   "metadata": {},
   "outputs": [
    {
     "output_type": "stream",
     "name": "stderr",
     "text": "INFO:sensitivity:wrote summary to ../logs/sensitivity/summary.csv\nINFO:sensitivity:wrote detils to ../logs/sensitivity/details.csv\nx0 (-1.7407000000000012, 0.49878000000000017)\nx1 (-0.008790000000000058, 0.36157000000000017)\nx2 (-0.06451000000000004, 0.0452900000000001)\nx3 (-1.7451300000000003, 1.33788)\nx4 (-0.80492, 0.3280500000000002)\nx5 (-0.8274100000000001, 0.0892800000000003)\nx6 (-0.4095800000000001, 0.09878000000000006)\nx7 (-1.1085399999999994, 0.16702000000000006)\nx8 (-0.1643000000000001, 0.4914700000000002)\nx9 (-0.47933000000000014, 0.3772600000000002)\nx10 (-0.16600000000000004, 0.46379000000000015)\nx11 (-0.056590000000000105, 0.18799)\nx12 (-0.9590799999999997, 0.6053499999999999)\nx13 (-0.09950000000000003, 0.7420999999999998)\nx14 (-0.36130000000000023, 1.35757)\nx15 (-0.4227800000000001, 2.2329300000000054)\nx16 (-0.5460100000000001, 0.12464000000000007)\nx17 (-0.14683999999999997, 0.14640999999999998)\nx18 (-0.02320000000000006, 0.16060999999999998)\nx19 (-0.008010000000000066, 0.08136000000000006)\nx20 (-0.4661900000000002, 0.98691)\nx21 (-0.0411100000000001, 0.24633000000000016)\nx22 (-0.05236000000000009, 0.14511000000000002)\nx23 (-0.17960999999999996, 0.16658000000000006)\nx24 (-0.13709000000000013, 0.01580000000000005)\n"
    }
   ],
   "source": [
    "from sensitivity import find_sensitivity_boundaries\n",
    "\n",
    "results = find_sensitivity_boundaries(model_path, samples[:10], d_min=0.00001, d_max=100, multithread=True, save_results=True, save_samples=True)\n",
    "\n",
    "for x,result in results.items():\n",
    "    dists,_ = result\n",
    "    print(x, dists)"
   ]
  },
  {
   "cell_type": "code",
   "execution_count": 5,
   "metadata": {},
   "outputs": [],
   "source": [
    "# from tensorflow.keras.models import load_model\n",
    "\n",
    "# model = load_model('../artifacts/models/model_v3.2.0/model.h5')\n",
    "# inputs,outputs = samples[6]\n",
    "# d = 49.69331\n",
    "# x = 0\n",
    "# pred = model.predict([inputs[0:x] + [inputs[x]+d] + inputs[x+1:]])\n",
    "\n",
    "# # assert that prediction was correct\n",
    "# assert(outputs.index(max(outputs)) == list(pred[0]).index(max(pred[0])))"
   ]
  },
  {
   "cell_type": "code",
   "execution_count": 6,
   "metadata": {},
   "outputs": [],
   "source": [
    "# from maraboupy import Marabou, MarabouCore\n",
    "\n",
    "# pb_path = '../artifacts/models/model-v3.1.4/model.pb'\n",
    "# net = Marabou.read_tf(pb_path)\n",
    "\n",
    "# sample = samples[0]\n",
    "# inputs, outputs = sample\n",
    "# expected_cat = outputs.index(max(outputs))\n",
    "# other_cats = [i for i in range(len(outputs)) if i != expected_cat]\n",
    "\n",
    "# for x,v in enumerate(inputs):\n",
    "#     net.setLowerBound(net.inputVars[0][x], v)\n",
    "#     net.setUpperBound(net.inputVars[0][x], v)\n",
    "# for c in other_cats:\n",
    "#     print('OC:', c)\n",
    "#     eq1 = MarabouCore.Equation(MarabouCore.Equation.LE)\n",
    "#     eq1.addAddend(1, net.outputVars[0][c])\n",
    "#     eq1.addAddend(-1, net.outputVars[0][0])\n",
    "#     eq1.setScalar(0)\n",
    "# pred = net.evaluate([input_sample], useMarabou=False)\n",
    "# print(pred)"
   ]
  },
  {
   "cell_type": "code",
   "execution_count": null,
   "metadata": {},
   "outputs": [],
   "source": []
  }
 ],
 "metadata": {
  "language_info": {
   "codemirror_mode": {
    "name": "ipython",
    "version": 3
   },
   "file_extension": ".py",
   "mimetype": "text/x-python",
   "name": "python",
   "nbconvert_exporter": "python",
   "pygments_lexer": "ipython3",
   "version": "3.7.7-final"
  },
  "orig_nbformat": 2,
  "kernelspec": {
   "name": "python37764bitvenvvenv2f570c7c66434947b458a57674f581a2",
   "display_name": "Python 3.7.7 64-bit ('venv': venv)"
  }
 },
 "nbformat": 4,
 "nbformat_minor": 2
}