{
 "cells": [
  {
   "cell_type": "code",
   "execution_count": 1,
   "metadata": {},
   "outputs": [],
   "source": [
    "import sys\n",
    "import numpy as np\n",
    "from IPython.display import display\n",
    "from maraboupy import Marabou, MarabouCore\n",
    "from utils import TOTUtils"
   ]
  },
  {
   "cell_type": "code",
   "execution_count": 3,
   "metadata": {},
   "outputs": [
    {
     "output_type": "stream",
     "name": "stdout",
     "text": "13528 correct samples\n"
    }
   ],
   "source": [
    "# nnet_path = '../artifacts/models/model_v3.2.0/model.h5'\n",
    "# data_csv = '../data/v3.2.0/test.csv'\n",
    "# all_samples = TOTUtils.load_samples(data_csv, frac=0.1)\n",
    "# samples = TOTUtils.filter_samples(all_samples, nnet_path)\n",
    "# print(f'{len(samples)} correct samples')"
   ]
  },
  {
   "cell_type": "code",
   "execution_count": 397,
   "metadata": {},
   "outputs": [
    {
     "output_type": "stream",
     "name": "stdout",
     "text": "summary: (-0.04372000000000003, 0.21464)\n"
    }
   ],
   "source": [
    "from robustness import find_local_robustness_boundaries\n",
    "\n",
    "h5_path = '../artifacts/models/model_v3.2.0/model.h5'\n",
    "sample = ([0.23926416842332435, -0.15174888439921375, -0.12715716851930392, -0.06499066379491034, -0.044038348638094, -0.044549369363895516, -2.1657892246029085, -0.14904223875562067, 1.7803860411643386, -1.8489723834384288, -1.4227079179070772, -1.146822736559327, -0.019598968186462968, -0.497276625704834, -0.059858693698986526, -1.1658575654628252, 0.5013980886462887, -0.12424305809637555, -0.16772960456016833, 0.8476144787315946, -0.04599664704894778, 0.017279279428270938, 0.18448958004575428, -0.014432784637498619, -0.16232216451525688], [0, 0, 0, 0, 1])\n",
    "results = find_local_robustness_boundaries(h5_path, [sample], d_min=0.00001, d_max=100)\n",
    "summary, _ = results\n",
    "print(f'summary: {summary}')"
   ]
  },
  {
   "cell_type": "code",
   "execution_count": 394,
   "metadata": {},
   "outputs": [
    {
     "output_type": "stream",
     "name": "stdout",
     "text": "-0.0013379999999999993 0.000401\n"
    }
   ],
   "source": [
    "import pandas as pd\n",
    "from robustness import verify_local_robustness_boundaries\n",
    "\n",
    "n_inputs = 25\n",
    "p = 0\n",
    "nnet_path = '../network/models/v3.2.0/model.nnet'\n",
    "samples_path = '../logs/robustness/samples.csv'\n",
    "dists_path = '../logs/robustness/local_summary.csv'\n",
    "samples = pd.read_csv(samples_path, index_col=0)\n",
    "samples = [(s[0:n_inputs].tolist(), s[n_inputs:].tolist()) for s in samples.values]\n",
    "distances = pd.read_csv(dists_path, usecols=['dneg', 'dpos']).values\n",
    "\n",
    "# distances = tuple(distances[0])\n",
    "# print(f'verifying local robustness dists: {distances}')\n",
    "# counterexamples = verify_local_robustness_boundaries(nnet_path, samples, distances, ignore_samples=[], timeout=10, verbose=0)\n",
    "# print(f'counterexamples in {len(counterexamples.keys())} fields')\n",
    "\n",
    "# for i,ce in counterexamples.items():\n",
    "#     vals, samp = ce\n",
    "#     ce_inputs, ce_outputs = vals\n",
    "#     s_inputs, s_outputs = samp\n",
    "#     for x in range(25):\n",
    "#         print(f'x{x}: ', abs(ce_inputs[x])-abs(s_inputs[x]))\n",
    "\n",
    "details = pd.read_csv('../logs/robustness/local_details.csv', usecols=['dneg','dpos'])\n",
    "dneg = details[details['dneg'] < 0]['dneg']\n",
    "dpos = details[details['dpos'] > 0]['dpos']\n",
    "print(dneg.max(), dpos.min())"
   ]
  },
  {
   "cell_type": "code",
   "execution_count": null,
   "metadata": {},
   "outputs": [],
   "source": []
  },
  {
   "cell_type": "code",
   "execution_count": 230,
   "metadata": {},
   "outputs": [
    {
     "output_type": "stream",
     "name": "stderr",
     "text": "INFO:robustness:all distances valid (34ms)\n{}\n"
    }
   ],
   "source": [
    "# incorrect_samples = [samples[51], samples[209], samples[887], samples[1004], samples[1127], samples[1195], samples[1222], samples[1289]]\n",
    "# p=0.000141\n",
    "# dists = (distances[0]+p, distances[1]-p)\n",
    "# s=1289\n",
    "# p=0.0001\n",
    "# sample = samples[s]\n",
    "\n",
    "# examps = verify_local_robustness_boundaries(nnet_path, [sample], dists, precision_adjustment=0, verbose=1)\n",
    "# print(examps)\n",
    "\n",
    "# for i,examp in examps.items():\n",
    "#     vals, samp = examp\n",
    "#     ce_inputs, ce_outputs = vals\n",
    "#     s_inputs, s_outputs = samp\n",
    "#     for x in range(25):\n",
    "#         print(f'x{x}: ', abs(ce_inputs[x])-abs(s_inputs[x]))"
   ]
  },
  {
   "cell_type": "code",
   "execution_count": 400,
   "metadata": {},
   "outputs": [
    {
     "output_type": "stream",
     "name": "stdout",
     "text": "Counterexample:\n ([0.1955441684233243, -0.18514550681258415, 0.08748283148069608, -0.10871066379491037, 0.170601651361906, 0.057229047730204624, -1.9511492246029085, -0.1927622387556207, 1.7366660411643386, -1.634332383438429, -1.4664279179070772, -0.9321827365593272, -0.063318968186463, -0.540996625704834, -0.10357869369898656, -1.2095775654628251, 0.4576780886462886, -0.026350308813991488, 0.002729866340970037, 0.8038944787315946, -0.0897166470489478, 0.23191927942827092, 0.2921540096345387, 0.20020721536250138, 0.052317835484743114], [-0.790979, 0.121041, -0.254524, 0.100963, 0.0369568])\n"
    }
   ],
   "source": [
    "from tot_net import TOTNet\n",
    "\n",
    "nnet_path = '../artifacts/models/model_v3.2.0/model.nnet'\n",
    "sample = ([0.23926416842332435, -0.15174888439921375, -0.12715716851930392, -0.06499066379491034, -0.044038348638094, 0.3313194507444112, 0.4782613721223489, 0.2327204327318842, 0.14517771117862072, 1.3552479661059729, 2.24086091849637, 0.87197434103912, 0.4850011890061274, 0.577800190511209, 1.0597868699177289, -0.39768393057496987, -0.362047643207948, -0.12424305809637555, -0.16772960456016833, -1.778873779785491, -0.04599664704894778, -0.5208565928982523, 0.18448958004575428, 0.5282850327992676, -0.16232216451525688], [0, 0, 1, 0, 0])\n",
    "n_inputs=25\n",
    "n_outputs=5\n",
    "negd, posd = (-0.0024129999999999998, 0.007748000000000001)\n",
    "\n",
    "inputs, outputs = sample\n",
    "expected_category = outputs.index(max(outputs))\n",
    "other_categories = [y for y in range(n_outputs) if y != expected_category]\n",
    "lbounds = [x+negd for x in inputs]\n",
    "ubounds = [x+posd for x in inputs]\n",
    "net = TOTNet(nnet_path)\n",
    "for oc in other_categories:\n",
    "    net.reset_query()\n",
    "    net.set_lower_bounds(lbounds)\n",
    "    net.set_upper_bounds(ubounds)\n",
    "    net.set_expected_category(oc)\n",
    "    vals, _ = net.solve(timeout=10)\n",
    "    counter_inputs, counter_outputs = vals\n",
    "    if len(counter_inputs) > 0 or len(counter_outputs) > 0:\n",
    "        print('Counterexample:\\n', vals)\n",
    "        break"
   ]
  }
 ],
 "metadata": {
  "language_info": {
   "codemirror_mode": {
    "name": "ipython",
    "version": 3
   },
   "file_extension": ".py",
   "mimetype": "text/x-python",
   "name": "python",
   "nbconvert_exporter": "python",
   "pygments_lexer": "ipython3",
   "version": "3.7.7-final"
  },
  "orig_nbformat": 2,
  "kernelspec": {
   "name": "python37764bitvenvvenv2f570c7c66434947b458a57674f581a2",
   "display_name": "Python 3.7.7 64-bit ('venv': venv)"
  }
 },
 "nbformat": 4,
 "nbformat_minor": 2
}